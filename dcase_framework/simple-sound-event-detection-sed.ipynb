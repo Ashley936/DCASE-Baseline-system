{
 "cells": [
  {
   "cell_type": "markdown",
   "metadata": {
    "papermill": {
     "duration": 0.019594,
     "end_time": "2020-09-08T20:41:44.400312",
     "exception": false,
     "start_time": "2020-09-08T20:41:44.380718",
     "status": "completed"
    },
    "tags": []
   },
   "source": [
    "# Simple Sound Event Detection (SED) using Max Min filter "
   ]
  },
  {
   "cell_type": "code",
   "execution_count": 17,
   "metadata": {
    "execution": {
     "iopub.execute_input": "2020-09-08T20:41:44.490434Z",
     "iopub.status.busy": "2020-09-08T20:41:44.485480Z",
     "iopub.status.idle": "2020-09-08T20:41:55.150460Z",
     "shell.execute_reply": "2020-09-08T20:41:55.149711Z"
    },
    "papermill": {
     "duration": 10.701337,
     "end_time": "2020-09-08T20:41:55.150591",
     "exception": false,
     "start_time": "2020-09-08T20:41:44.449254",
     "status": "completed"
    },
    "tags": []
   },
   "outputs": [],
   "source": [
    "# packages\n",
    "## system\n",
    "import os, warnings, sys, pathlib\n",
    "from pathlib import Path\n",
    "warnings.filterwarnings('ignore')\n",
    "\n",
    "## data structure\n",
    "import pandas as pd\n",
    "import numpy as np\n",
    "import tensorflow as tf\n",
    "from tensorflow import keras\n",
    "# import tensorflow.keras.backend as K\n",
    "from tensorflow.python.keras.utils.data_utils import Sequence\n",
    "\n",
    "## utils\n",
    "import math\n",
    "import scipy\n",
    "import scipy.ndimage as ndimage\n",
    "import scipy.ndimage.filters as filters\n",
    "import random\n",
    "import datetime\n",
    "import time\n",
    "from tqdm import tqdm\n",
    "from sklearn.pipeline import Pipeline\n",
    "from sklearn.utils import class_weight\n",
    "import shutil\n",
    "\n",
    "## image \n",
    "# import cv2\n",
    "from PIL import Image\n",
    "# from skimage.transform import rotate\n",
    "# import imgaug.augmenters as iaa\n",
    "\n",
    "## audio\n",
    "import soundfile as sf\n",
    "import librosa\n",
    "# from pydub import AudioSegment\n",
    "\n",
    "## data cleaning\n",
    "from sklearn.preprocessing import StandardScaler, normalize, LabelEncoder, OneHotEncoder, scale\n",
    "from sklearn.decomposition import PCA\n",
    "from sklearn.metrics import confusion_matrix, f1_score, ConfusionMatrixDisplay\n",
    "\n",
    "## graphing\n",
    "import librosa.display\n",
    "# import seaborn as sns\n",
    "%matplotlib inline\n",
    "import matplotlib.pyplot as plt\n",
    "from matplotlib.collections import PatchCollection\n",
    "from matplotlib.patches import Rectangle"
   ]
  },
  {
   "cell_type": "code",
   "execution_count": 2,
   "metadata": {
    "execution": {
     "iopub.execute_input": "2020-09-08T20:41:55.189013Z",
     "iopub.status.busy": "2020-09-08T20:41:55.187651Z",
     "iopub.status.idle": "2020-09-08T20:41:55.190609Z",
     "shell.execute_reply": "2020-09-08T20:41:55.191164Z"
    },
    "papermill": {
     "duration": 0.024758,
     "end_time": "2020-09-08T20:41:55.191382",
     "exception": false,
     "start_time": "2020-09-08T20:41:55.166624",
     "status": "completed"
    },
    "tags": []
   },
   "outputs": [],
   "source": [
    "# print(tf.test.is_gpu_available(), tf.config.list_physical_devices('GPU'))"
   ]
  },
  {
   "cell_type": "markdown",
   "metadata": {
    "papermill": {
     "duration": 0.015274,
     "end_time": "2020-09-08T20:41:55.222553",
     "exception": false,
     "start_time": "2020-09-08T20:41:55.207279",
     "status": "completed"
    },
    "tags": []
   },
   "source": [
    "# traning encoder"
   ]
  },
  {
   "cell_type": "markdown",
   "metadata": {
    "papermill": {
     "duration": 0.015236,
     "end_time": "2020-09-08T20:41:55.253296",
     "exception": false,
     "start_time": "2020-09-08T20:41:55.238060",
     "status": "completed"
    },
    "tags": []
   },
   "source": [
    "## training data path"
   ]
  },
  {
   "cell_type": "code",
   "execution_count": 4,
   "metadata": {
    "execution": {
     "iopub.execute_input": "2020-09-08T20:41:55.290780Z",
     "iopub.status.busy": "2020-09-08T20:41:55.289866Z",
     "iopub.status.idle": "2020-09-08T20:41:55.295281Z",
     "shell.execute_reply": "2020-09-08T20:41:55.293882Z"
    },
    "papermill": {
     "duration": 0.026387,
     "end_time": "2020-09-08T20:41:55.295460",
     "exception": false,
     "start_time": "2020-09-08T20:41:55.269073",
     "status": "completed"
    },
    "tags": []
   },
   "outputs": [
    {
     "name": "stdout",
     "output_type": "stream",
     "text": [
      "../applications/data/TUT-sound-events-2017-development/audio/street\n"
     ]
    }
   ],
   "source": [
    "# get image path\n",
    "# define audio dataset path\n",
    "\n",
    "DATASET_AUDIO = \"train_audio/\"\n",
    "DATASET_SPEC = \"../applications/data/TUT-sound-events-2017-development/audio/street\"\n",
    "\n",
    "print(DATASET_SPEC)\n"
   ]
  },
  {
   "cell_type": "markdown",
   "metadata": {
    "papermill": {
     "duration": 0.015701,
     "end_time": "2020-09-08T20:41:55.331527",
     "exception": false,
     "start_time": "2020-09-08T20:41:55.315826",
     "status": "completed"
    },
    "tags": []
   },
   "source": [
    "## lable encoder "
   ]
  },
  {
   "cell_type": "code",
   "execution_count": 5,
   "metadata": {
    "execution": {
     "iopub.execute_input": "2020-09-08T20:41:55.373251Z",
     "iopub.status.busy": "2020-09-08T20:41:55.372326Z",
     "iopub.status.idle": "2020-09-08T20:41:55.391175Z",
     "shell.execute_reply": "2020-09-08T20:41:55.390537Z"
    },
    "papermill": {
     "duration": 0.043953,
     "end_time": "2020-09-08T20:41:55.391312",
     "exception": false,
     "start_time": "2020-09-08T20:41:55.347359",
     "status": "completed"
    },
    "tags": []
   },
   "outputs": [],
   "source": [
    "# get index of label and freq \n",
    "label_names = sorted(set(os.listdir(DATASET_SPEC)))\n",
    "\n",
    "# onehot encode label and freq\n",
    "label_to_onehot = OneHotEncoder(sparse = False)\n",
    "label_to_onehot.fit(np.array(label_names).reshape(-1, 1))\n",
    "label_dict = dict(zip(label_names, label_to_onehot.fit_transform(np.array(label_names).reshape(-1, 1))))\n"
   ]
  },
  {
   "cell_type": "code",
   "execution_count": 6,
   "metadata": {
    "execution": {
     "iopub.execute_input": "2020-09-08T20:41:55.446409Z",
     "iopub.status.busy": "2020-09-08T20:41:55.445257Z",
     "iopub.status.idle": "2020-09-08T20:41:55.503198Z",
     "shell.execute_reply": "2020-09-08T20:41:55.503867Z"
    },
    "papermill": {
     "duration": 0.096291,
     "end_time": "2020-09-08T20:41:55.504032",
     "exception": false,
     "start_time": "2020-09-08T20:41:55.407741",
     "status": "completed"
    },
    "tags": []
   },
   "outputs": [
    {
     "data": {
      "text/html": [
       "<div>\n",
       "<style scoped>\n",
       "    .dataframe tbody tr th:only-of-type {\n",
       "        vertical-align: middle;\n",
       "    }\n",
       "\n",
       "    .dataframe tbody tr th {\n",
       "        vertical-align: top;\n",
       "    }\n",
       "\n",
       "    .dataframe thead th {\n",
       "        text-align: right;\n",
       "    }\n",
       "</style>\n",
       "<table border=\"1\" class=\"dataframe\">\n",
       "  <thead>\n",
       "    <tr style=\"text-align: right;\">\n",
       "      <th></th>\n",
       "      <th>a001.wav</th>\n",
       "      <th>a003.wav</th>\n",
       "      <th>a008.wav</th>\n",
       "      <th>a010.wav</th>\n",
       "      <th>a012.wav</th>\n",
       "      <th>a013.wav</th>\n",
       "      <th>a124.wav</th>\n",
       "      <th>a127.wav</th>\n",
       "      <th>a128.wav</th>\n",
       "      <th>a129.wav</th>\n",
       "      <th>...</th>\n",
       "      <th>b007.wav</th>\n",
       "      <th>b008.wav</th>\n",
       "      <th>b009.wav</th>\n",
       "      <th>b091.wav</th>\n",
       "      <th>b093.wav</th>\n",
       "      <th>b094.wav</th>\n",
       "      <th>b095.wav</th>\n",
       "      <th>b098.wav</th>\n",
       "      <th>b099.wav</th>\n",
       "      <th>b100.wav</th>\n",
       "    </tr>\n",
       "  </thead>\n",
       "  <tbody>\n",
       "    <tr>\n",
       "      <th>0</th>\n",
       "      <td>1.0</td>\n",
       "      <td>0.0</td>\n",
       "      <td>0.0</td>\n",
       "      <td>0.0</td>\n",
       "      <td>0.0</td>\n",
       "      <td>0.0</td>\n",
       "      <td>0.0</td>\n",
       "      <td>0.0</td>\n",
       "      <td>0.0</td>\n",
       "      <td>0.0</td>\n",
       "      <td>...</td>\n",
       "      <td>0.0</td>\n",
       "      <td>0.0</td>\n",
       "      <td>0.0</td>\n",
       "      <td>0.0</td>\n",
       "      <td>0.0</td>\n",
       "      <td>0.0</td>\n",
       "      <td>0.0</td>\n",
       "      <td>0.0</td>\n",
       "      <td>0.0</td>\n",
       "      <td>0.0</td>\n",
       "    </tr>\n",
       "    <tr>\n",
       "      <th>1</th>\n",
       "      <td>0.0</td>\n",
       "      <td>1.0</td>\n",
       "      <td>0.0</td>\n",
       "      <td>0.0</td>\n",
       "      <td>0.0</td>\n",
       "      <td>0.0</td>\n",
       "      <td>0.0</td>\n",
       "      <td>0.0</td>\n",
       "      <td>0.0</td>\n",
       "      <td>0.0</td>\n",
       "      <td>...</td>\n",
       "      <td>0.0</td>\n",
       "      <td>0.0</td>\n",
       "      <td>0.0</td>\n",
       "      <td>0.0</td>\n",
       "      <td>0.0</td>\n",
       "      <td>0.0</td>\n",
       "      <td>0.0</td>\n",
       "      <td>0.0</td>\n",
       "      <td>0.0</td>\n",
       "      <td>0.0</td>\n",
       "    </tr>\n",
       "    <tr>\n",
       "      <th>2</th>\n",
       "      <td>0.0</td>\n",
       "      <td>0.0</td>\n",
       "      <td>1.0</td>\n",
       "      <td>0.0</td>\n",
       "      <td>0.0</td>\n",
       "      <td>0.0</td>\n",
       "      <td>0.0</td>\n",
       "      <td>0.0</td>\n",
       "      <td>0.0</td>\n",
       "      <td>0.0</td>\n",
       "      <td>...</td>\n",
       "      <td>0.0</td>\n",
       "      <td>0.0</td>\n",
       "      <td>0.0</td>\n",
       "      <td>0.0</td>\n",
       "      <td>0.0</td>\n",
       "      <td>0.0</td>\n",
       "      <td>0.0</td>\n",
       "      <td>0.0</td>\n",
       "      <td>0.0</td>\n",
       "      <td>0.0</td>\n",
       "    </tr>\n",
       "    <tr>\n",
       "      <th>3</th>\n",
       "      <td>0.0</td>\n",
       "      <td>0.0</td>\n",
       "      <td>0.0</td>\n",
       "      <td>1.0</td>\n",
       "      <td>0.0</td>\n",
       "      <td>0.0</td>\n",
       "      <td>0.0</td>\n",
       "      <td>0.0</td>\n",
       "      <td>0.0</td>\n",
       "      <td>0.0</td>\n",
       "      <td>...</td>\n",
       "      <td>0.0</td>\n",
       "      <td>0.0</td>\n",
       "      <td>0.0</td>\n",
       "      <td>0.0</td>\n",
       "      <td>0.0</td>\n",
       "      <td>0.0</td>\n",
       "      <td>0.0</td>\n",
       "      <td>0.0</td>\n",
       "      <td>0.0</td>\n",
       "      <td>0.0</td>\n",
       "    </tr>\n",
       "    <tr>\n",
       "      <th>4</th>\n",
       "      <td>0.0</td>\n",
       "      <td>0.0</td>\n",
       "      <td>0.0</td>\n",
       "      <td>0.0</td>\n",
       "      <td>1.0</td>\n",
       "      <td>0.0</td>\n",
       "      <td>0.0</td>\n",
       "      <td>0.0</td>\n",
       "      <td>0.0</td>\n",
       "      <td>0.0</td>\n",
       "      <td>...</td>\n",
       "      <td>0.0</td>\n",
       "      <td>0.0</td>\n",
       "      <td>0.0</td>\n",
       "      <td>0.0</td>\n",
       "      <td>0.0</td>\n",
       "      <td>0.0</td>\n",
       "      <td>0.0</td>\n",
       "      <td>0.0</td>\n",
       "      <td>0.0</td>\n",
       "      <td>0.0</td>\n",
       "    </tr>\n",
       "    <tr>\n",
       "      <th>5</th>\n",
       "      <td>0.0</td>\n",
       "      <td>0.0</td>\n",
       "      <td>0.0</td>\n",
       "      <td>0.0</td>\n",
       "      <td>0.0</td>\n",
       "      <td>1.0</td>\n",
       "      <td>0.0</td>\n",
       "      <td>0.0</td>\n",
       "      <td>0.0</td>\n",
       "      <td>0.0</td>\n",
       "      <td>...</td>\n",
       "      <td>0.0</td>\n",
       "      <td>0.0</td>\n",
       "      <td>0.0</td>\n",
       "      <td>0.0</td>\n",
       "      <td>0.0</td>\n",
       "      <td>0.0</td>\n",
       "      <td>0.0</td>\n",
       "      <td>0.0</td>\n",
       "      <td>0.0</td>\n",
       "      <td>0.0</td>\n",
       "    </tr>\n",
       "    <tr>\n",
       "      <th>6</th>\n",
       "      <td>0.0</td>\n",
       "      <td>0.0</td>\n",
       "      <td>0.0</td>\n",
       "      <td>0.0</td>\n",
       "      <td>0.0</td>\n",
       "      <td>0.0</td>\n",
       "      <td>1.0</td>\n",
       "      <td>0.0</td>\n",
       "      <td>0.0</td>\n",
       "      <td>0.0</td>\n",
       "      <td>...</td>\n",
       "      <td>0.0</td>\n",
       "      <td>0.0</td>\n",
       "      <td>0.0</td>\n",
       "      <td>0.0</td>\n",
       "      <td>0.0</td>\n",
       "      <td>0.0</td>\n",
       "      <td>0.0</td>\n",
       "      <td>0.0</td>\n",
       "      <td>0.0</td>\n",
       "      <td>0.0</td>\n",
       "    </tr>\n",
       "    <tr>\n",
       "      <th>7</th>\n",
       "      <td>0.0</td>\n",
       "      <td>0.0</td>\n",
       "      <td>0.0</td>\n",
       "      <td>0.0</td>\n",
       "      <td>0.0</td>\n",
       "      <td>0.0</td>\n",
       "      <td>0.0</td>\n",
       "      <td>1.0</td>\n",
       "      <td>0.0</td>\n",
       "      <td>0.0</td>\n",
       "      <td>...</td>\n",
       "      <td>0.0</td>\n",
       "      <td>0.0</td>\n",
       "      <td>0.0</td>\n",
       "      <td>0.0</td>\n",
       "      <td>0.0</td>\n",
       "      <td>0.0</td>\n",
       "      <td>0.0</td>\n",
       "      <td>0.0</td>\n",
       "      <td>0.0</td>\n",
       "      <td>0.0</td>\n",
       "    </tr>\n",
       "    <tr>\n",
       "      <th>8</th>\n",
       "      <td>0.0</td>\n",
       "      <td>0.0</td>\n",
       "      <td>0.0</td>\n",
       "      <td>0.0</td>\n",
       "      <td>0.0</td>\n",
       "      <td>0.0</td>\n",
       "      <td>0.0</td>\n",
       "      <td>0.0</td>\n",
       "      <td>1.0</td>\n",
       "      <td>0.0</td>\n",
       "      <td>...</td>\n",
       "      <td>0.0</td>\n",
       "      <td>0.0</td>\n",
       "      <td>0.0</td>\n",
       "      <td>0.0</td>\n",
       "      <td>0.0</td>\n",
       "      <td>0.0</td>\n",
       "      <td>0.0</td>\n",
       "      <td>0.0</td>\n",
       "      <td>0.0</td>\n",
       "      <td>0.0</td>\n",
       "    </tr>\n",
       "    <tr>\n",
       "      <th>9</th>\n",
       "      <td>0.0</td>\n",
       "      <td>0.0</td>\n",
       "      <td>0.0</td>\n",
       "      <td>0.0</td>\n",
       "      <td>0.0</td>\n",
       "      <td>0.0</td>\n",
       "      <td>0.0</td>\n",
       "      <td>0.0</td>\n",
       "      <td>0.0</td>\n",
       "      <td>1.0</td>\n",
       "      <td>...</td>\n",
       "      <td>0.0</td>\n",
       "      <td>0.0</td>\n",
       "      <td>0.0</td>\n",
       "      <td>0.0</td>\n",
       "      <td>0.0</td>\n",
       "      <td>0.0</td>\n",
       "      <td>0.0</td>\n",
       "      <td>0.0</td>\n",
       "      <td>0.0</td>\n",
       "      <td>0.0</td>\n",
       "    </tr>\n",
       "    <tr>\n",
       "      <th>10</th>\n",
       "      <td>0.0</td>\n",
       "      <td>0.0</td>\n",
       "      <td>0.0</td>\n",
       "      <td>0.0</td>\n",
       "      <td>0.0</td>\n",
       "      <td>0.0</td>\n",
       "      <td>0.0</td>\n",
       "      <td>0.0</td>\n",
       "      <td>0.0</td>\n",
       "      <td>0.0</td>\n",
       "      <td>...</td>\n",
       "      <td>0.0</td>\n",
       "      <td>0.0</td>\n",
       "      <td>0.0</td>\n",
       "      <td>0.0</td>\n",
       "      <td>0.0</td>\n",
       "      <td>0.0</td>\n",
       "      <td>0.0</td>\n",
       "      <td>0.0</td>\n",
       "      <td>0.0</td>\n",
       "      <td>0.0</td>\n",
       "    </tr>\n",
       "    <tr>\n",
       "      <th>11</th>\n",
       "      <td>0.0</td>\n",
       "      <td>0.0</td>\n",
       "      <td>0.0</td>\n",
       "      <td>0.0</td>\n",
       "      <td>0.0</td>\n",
       "      <td>0.0</td>\n",
       "      <td>0.0</td>\n",
       "      <td>0.0</td>\n",
       "      <td>0.0</td>\n",
       "      <td>0.0</td>\n",
       "      <td>...</td>\n",
       "      <td>0.0</td>\n",
       "      <td>0.0</td>\n",
       "      <td>0.0</td>\n",
       "      <td>0.0</td>\n",
       "      <td>0.0</td>\n",
       "      <td>0.0</td>\n",
       "      <td>0.0</td>\n",
       "      <td>0.0</td>\n",
       "      <td>0.0</td>\n",
       "      <td>0.0</td>\n",
       "    </tr>\n",
       "    <tr>\n",
       "      <th>12</th>\n",
       "      <td>0.0</td>\n",
       "      <td>0.0</td>\n",
       "      <td>0.0</td>\n",
       "      <td>0.0</td>\n",
       "      <td>0.0</td>\n",
       "      <td>0.0</td>\n",
       "      <td>0.0</td>\n",
       "      <td>0.0</td>\n",
       "      <td>0.0</td>\n",
       "      <td>0.0</td>\n",
       "      <td>...</td>\n",
       "      <td>0.0</td>\n",
       "      <td>0.0</td>\n",
       "      <td>0.0</td>\n",
       "      <td>0.0</td>\n",
       "      <td>0.0</td>\n",
       "      <td>0.0</td>\n",
       "      <td>0.0</td>\n",
       "      <td>0.0</td>\n",
       "      <td>0.0</td>\n",
       "      <td>0.0</td>\n",
       "    </tr>\n",
       "    <tr>\n",
       "      <th>13</th>\n",
       "      <td>0.0</td>\n",
       "      <td>0.0</td>\n",
       "      <td>0.0</td>\n",
       "      <td>0.0</td>\n",
       "      <td>0.0</td>\n",
       "      <td>0.0</td>\n",
       "      <td>0.0</td>\n",
       "      <td>0.0</td>\n",
       "      <td>0.0</td>\n",
       "      <td>0.0</td>\n",
       "      <td>...</td>\n",
       "      <td>0.0</td>\n",
       "      <td>0.0</td>\n",
       "      <td>0.0</td>\n",
       "      <td>0.0</td>\n",
       "      <td>0.0</td>\n",
       "      <td>0.0</td>\n",
       "      <td>0.0</td>\n",
       "      <td>0.0</td>\n",
       "      <td>0.0</td>\n",
       "      <td>0.0</td>\n",
       "    </tr>\n",
       "    <tr>\n",
       "      <th>14</th>\n",
       "      <td>0.0</td>\n",
       "      <td>0.0</td>\n",
       "      <td>0.0</td>\n",
       "      <td>0.0</td>\n",
       "      <td>0.0</td>\n",
       "      <td>0.0</td>\n",
       "      <td>0.0</td>\n",
       "      <td>0.0</td>\n",
       "      <td>0.0</td>\n",
       "      <td>0.0</td>\n",
       "      <td>...</td>\n",
       "      <td>1.0</td>\n",
       "      <td>0.0</td>\n",
       "      <td>0.0</td>\n",
       "      <td>0.0</td>\n",
       "      <td>0.0</td>\n",
       "      <td>0.0</td>\n",
       "      <td>0.0</td>\n",
       "      <td>0.0</td>\n",
       "      <td>0.0</td>\n",
       "      <td>0.0</td>\n",
       "    </tr>\n",
       "    <tr>\n",
       "      <th>15</th>\n",
       "      <td>0.0</td>\n",
       "      <td>0.0</td>\n",
       "      <td>0.0</td>\n",
       "      <td>0.0</td>\n",
       "      <td>0.0</td>\n",
       "      <td>0.0</td>\n",
       "      <td>0.0</td>\n",
       "      <td>0.0</td>\n",
       "      <td>0.0</td>\n",
       "      <td>0.0</td>\n",
       "      <td>...</td>\n",
       "      <td>0.0</td>\n",
       "      <td>1.0</td>\n",
       "      <td>0.0</td>\n",
       "      <td>0.0</td>\n",
       "      <td>0.0</td>\n",
       "      <td>0.0</td>\n",
       "      <td>0.0</td>\n",
       "      <td>0.0</td>\n",
       "      <td>0.0</td>\n",
       "      <td>0.0</td>\n",
       "    </tr>\n",
       "    <tr>\n",
       "      <th>16</th>\n",
       "      <td>0.0</td>\n",
       "      <td>0.0</td>\n",
       "      <td>0.0</td>\n",
       "      <td>0.0</td>\n",
       "      <td>0.0</td>\n",
       "      <td>0.0</td>\n",
       "      <td>0.0</td>\n",
       "      <td>0.0</td>\n",
       "      <td>0.0</td>\n",
       "      <td>0.0</td>\n",
       "      <td>...</td>\n",
       "      <td>0.0</td>\n",
       "      <td>0.0</td>\n",
       "      <td>1.0</td>\n",
       "      <td>0.0</td>\n",
       "      <td>0.0</td>\n",
       "      <td>0.0</td>\n",
       "      <td>0.0</td>\n",
       "      <td>0.0</td>\n",
       "      <td>0.0</td>\n",
       "      <td>0.0</td>\n",
       "    </tr>\n",
       "    <tr>\n",
       "      <th>17</th>\n",
       "      <td>0.0</td>\n",
       "      <td>0.0</td>\n",
       "      <td>0.0</td>\n",
       "      <td>0.0</td>\n",
       "      <td>0.0</td>\n",
       "      <td>0.0</td>\n",
       "      <td>0.0</td>\n",
       "      <td>0.0</td>\n",
       "      <td>0.0</td>\n",
       "      <td>0.0</td>\n",
       "      <td>...</td>\n",
       "      <td>0.0</td>\n",
       "      <td>0.0</td>\n",
       "      <td>0.0</td>\n",
       "      <td>1.0</td>\n",
       "      <td>0.0</td>\n",
       "      <td>0.0</td>\n",
       "      <td>0.0</td>\n",
       "      <td>0.0</td>\n",
       "      <td>0.0</td>\n",
       "      <td>0.0</td>\n",
       "    </tr>\n",
       "    <tr>\n",
       "      <th>18</th>\n",
       "      <td>0.0</td>\n",
       "      <td>0.0</td>\n",
       "      <td>0.0</td>\n",
       "      <td>0.0</td>\n",
       "      <td>0.0</td>\n",
       "      <td>0.0</td>\n",
       "      <td>0.0</td>\n",
       "      <td>0.0</td>\n",
       "      <td>0.0</td>\n",
       "      <td>0.0</td>\n",
       "      <td>...</td>\n",
       "      <td>0.0</td>\n",
       "      <td>0.0</td>\n",
       "      <td>0.0</td>\n",
       "      <td>0.0</td>\n",
       "      <td>1.0</td>\n",
       "      <td>0.0</td>\n",
       "      <td>0.0</td>\n",
       "      <td>0.0</td>\n",
       "      <td>0.0</td>\n",
       "      <td>0.0</td>\n",
       "    </tr>\n",
       "    <tr>\n",
       "      <th>19</th>\n",
       "      <td>0.0</td>\n",
       "      <td>0.0</td>\n",
       "      <td>0.0</td>\n",
       "      <td>0.0</td>\n",
       "      <td>0.0</td>\n",
       "      <td>0.0</td>\n",
       "      <td>0.0</td>\n",
       "      <td>0.0</td>\n",
       "      <td>0.0</td>\n",
       "      <td>0.0</td>\n",
       "      <td>...</td>\n",
       "      <td>0.0</td>\n",
       "      <td>0.0</td>\n",
       "      <td>0.0</td>\n",
       "      <td>0.0</td>\n",
       "      <td>0.0</td>\n",
       "      <td>1.0</td>\n",
       "      <td>0.0</td>\n",
       "      <td>0.0</td>\n",
       "      <td>0.0</td>\n",
       "      <td>0.0</td>\n",
       "    </tr>\n",
       "    <tr>\n",
       "      <th>20</th>\n",
       "      <td>0.0</td>\n",
       "      <td>0.0</td>\n",
       "      <td>0.0</td>\n",
       "      <td>0.0</td>\n",
       "      <td>0.0</td>\n",
       "      <td>0.0</td>\n",
       "      <td>0.0</td>\n",
       "      <td>0.0</td>\n",
       "      <td>0.0</td>\n",
       "      <td>0.0</td>\n",
       "      <td>...</td>\n",
       "      <td>0.0</td>\n",
       "      <td>0.0</td>\n",
       "      <td>0.0</td>\n",
       "      <td>0.0</td>\n",
       "      <td>0.0</td>\n",
       "      <td>0.0</td>\n",
       "      <td>1.0</td>\n",
       "      <td>0.0</td>\n",
       "      <td>0.0</td>\n",
       "      <td>0.0</td>\n",
       "    </tr>\n",
       "    <tr>\n",
       "      <th>21</th>\n",
       "      <td>0.0</td>\n",
       "      <td>0.0</td>\n",
       "      <td>0.0</td>\n",
       "      <td>0.0</td>\n",
       "      <td>0.0</td>\n",
       "      <td>0.0</td>\n",
       "      <td>0.0</td>\n",
       "      <td>0.0</td>\n",
       "      <td>0.0</td>\n",
       "      <td>0.0</td>\n",
       "      <td>...</td>\n",
       "      <td>0.0</td>\n",
       "      <td>0.0</td>\n",
       "      <td>0.0</td>\n",
       "      <td>0.0</td>\n",
       "      <td>0.0</td>\n",
       "      <td>0.0</td>\n",
       "      <td>0.0</td>\n",
       "      <td>1.0</td>\n",
       "      <td>0.0</td>\n",
       "      <td>0.0</td>\n",
       "    </tr>\n",
       "    <tr>\n",
       "      <th>22</th>\n",
       "      <td>0.0</td>\n",
       "      <td>0.0</td>\n",
       "      <td>0.0</td>\n",
       "      <td>0.0</td>\n",
       "      <td>0.0</td>\n",
       "      <td>0.0</td>\n",
       "      <td>0.0</td>\n",
       "      <td>0.0</td>\n",
       "      <td>0.0</td>\n",
       "      <td>0.0</td>\n",
       "      <td>...</td>\n",
       "      <td>0.0</td>\n",
       "      <td>0.0</td>\n",
       "      <td>0.0</td>\n",
       "      <td>0.0</td>\n",
       "      <td>0.0</td>\n",
       "      <td>0.0</td>\n",
       "      <td>0.0</td>\n",
       "      <td>0.0</td>\n",
       "      <td>1.0</td>\n",
       "      <td>0.0</td>\n",
       "    </tr>\n",
       "    <tr>\n",
       "      <th>23</th>\n",
       "      <td>0.0</td>\n",
       "      <td>0.0</td>\n",
       "      <td>0.0</td>\n",
       "      <td>0.0</td>\n",
       "      <td>0.0</td>\n",
       "      <td>0.0</td>\n",
       "      <td>0.0</td>\n",
       "      <td>0.0</td>\n",
       "      <td>0.0</td>\n",
       "      <td>0.0</td>\n",
       "      <td>...</td>\n",
       "      <td>0.0</td>\n",
       "      <td>0.0</td>\n",
       "      <td>0.0</td>\n",
       "      <td>0.0</td>\n",
       "      <td>0.0</td>\n",
       "      <td>0.0</td>\n",
       "      <td>0.0</td>\n",
       "      <td>0.0</td>\n",
       "      <td>0.0</td>\n",
       "      <td>1.0</td>\n",
       "    </tr>\n",
       "  </tbody>\n",
       "</table>\n",
       "<p>24 rows × 24 columns</p>\n",
       "</div>"
      ],
      "text/plain": [
       "    a001.wav  a003.wav  a008.wav  a010.wav  a012.wav  a013.wav  a124.wav  \\\n",
       "0        1.0       0.0       0.0       0.0       0.0       0.0       0.0   \n",
       "1        0.0       1.0       0.0       0.0       0.0       0.0       0.0   \n",
       "2        0.0       0.0       1.0       0.0       0.0       0.0       0.0   \n",
       "3        0.0       0.0       0.0       1.0       0.0       0.0       0.0   \n",
       "4        0.0       0.0       0.0       0.0       1.0       0.0       0.0   \n",
       "5        0.0       0.0       0.0       0.0       0.0       1.0       0.0   \n",
       "6        0.0       0.0       0.0       0.0       0.0       0.0       1.0   \n",
       "7        0.0       0.0       0.0       0.0       0.0       0.0       0.0   \n",
       "8        0.0       0.0       0.0       0.0       0.0       0.0       0.0   \n",
       "9        0.0       0.0       0.0       0.0       0.0       0.0       0.0   \n",
       "10       0.0       0.0       0.0       0.0       0.0       0.0       0.0   \n",
       "11       0.0       0.0       0.0       0.0       0.0       0.0       0.0   \n",
       "12       0.0       0.0       0.0       0.0       0.0       0.0       0.0   \n",
       "13       0.0       0.0       0.0       0.0       0.0       0.0       0.0   \n",
       "14       0.0       0.0       0.0       0.0       0.0       0.0       0.0   \n",
       "15       0.0       0.0       0.0       0.0       0.0       0.0       0.0   \n",
       "16       0.0       0.0       0.0       0.0       0.0       0.0       0.0   \n",
       "17       0.0       0.0       0.0       0.0       0.0       0.0       0.0   \n",
       "18       0.0       0.0       0.0       0.0       0.0       0.0       0.0   \n",
       "19       0.0       0.0       0.0       0.0       0.0       0.0       0.0   \n",
       "20       0.0       0.0       0.0       0.0       0.0       0.0       0.0   \n",
       "21       0.0       0.0       0.0       0.0       0.0       0.0       0.0   \n",
       "22       0.0       0.0       0.0       0.0       0.0       0.0       0.0   \n",
       "23       0.0       0.0       0.0       0.0       0.0       0.0       0.0   \n",
       "\n",
       "    a127.wav  a128.wav  a129.wav  ...  b007.wav  b008.wav  b009.wav  b091.wav  \\\n",
       "0        0.0       0.0       0.0  ...       0.0       0.0       0.0       0.0   \n",
       "1        0.0       0.0       0.0  ...       0.0       0.0       0.0       0.0   \n",
       "2        0.0       0.0       0.0  ...       0.0       0.0       0.0       0.0   \n",
       "3        0.0       0.0       0.0  ...       0.0       0.0       0.0       0.0   \n",
       "4        0.0       0.0       0.0  ...       0.0       0.0       0.0       0.0   \n",
       "5        0.0       0.0       0.0  ...       0.0       0.0       0.0       0.0   \n",
       "6        0.0       0.0       0.0  ...       0.0       0.0       0.0       0.0   \n",
       "7        1.0       0.0       0.0  ...       0.0       0.0       0.0       0.0   \n",
       "8        0.0       1.0       0.0  ...       0.0       0.0       0.0       0.0   \n",
       "9        0.0       0.0       1.0  ...       0.0       0.0       0.0       0.0   \n",
       "10       0.0       0.0       0.0  ...       0.0       0.0       0.0       0.0   \n",
       "11       0.0       0.0       0.0  ...       0.0       0.0       0.0       0.0   \n",
       "12       0.0       0.0       0.0  ...       0.0       0.0       0.0       0.0   \n",
       "13       0.0       0.0       0.0  ...       0.0       0.0       0.0       0.0   \n",
       "14       0.0       0.0       0.0  ...       1.0       0.0       0.0       0.0   \n",
       "15       0.0       0.0       0.0  ...       0.0       1.0       0.0       0.0   \n",
       "16       0.0       0.0       0.0  ...       0.0       0.0       1.0       0.0   \n",
       "17       0.0       0.0       0.0  ...       0.0       0.0       0.0       1.0   \n",
       "18       0.0       0.0       0.0  ...       0.0       0.0       0.0       0.0   \n",
       "19       0.0       0.0       0.0  ...       0.0       0.0       0.0       0.0   \n",
       "20       0.0       0.0       0.0  ...       0.0       0.0       0.0       0.0   \n",
       "21       0.0       0.0       0.0  ...       0.0       0.0       0.0       0.0   \n",
       "22       0.0       0.0       0.0  ...       0.0       0.0       0.0       0.0   \n",
       "23       0.0       0.0       0.0  ...       0.0       0.0       0.0       0.0   \n",
       "\n",
       "    b093.wav  b094.wav  b095.wav  b098.wav  b099.wav  b100.wav  \n",
       "0        0.0       0.0       0.0       0.0       0.0       0.0  \n",
       "1        0.0       0.0       0.0       0.0       0.0       0.0  \n",
       "2        0.0       0.0       0.0       0.0       0.0       0.0  \n",
       "3        0.0       0.0       0.0       0.0       0.0       0.0  \n",
       "4        0.0       0.0       0.0       0.0       0.0       0.0  \n",
       "5        0.0       0.0       0.0       0.0       0.0       0.0  \n",
       "6        0.0       0.0       0.0       0.0       0.0       0.0  \n",
       "7        0.0       0.0       0.0       0.0       0.0       0.0  \n",
       "8        0.0       0.0       0.0       0.0       0.0       0.0  \n",
       "9        0.0       0.0       0.0       0.0       0.0       0.0  \n",
       "10       0.0       0.0       0.0       0.0       0.0       0.0  \n",
       "11       0.0       0.0       0.0       0.0       0.0       0.0  \n",
       "12       0.0       0.0       0.0       0.0       0.0       0.0  \n",
       "13       0.0       0.0       0.0       0.0       0.0       0.0  \n",
       "14       0.0       0.0       0.0       0.0       0.0       0.0  \n",
       "15       0.0       0.0       0.0       0.0       0.0       0.0  \n",
       "16       0.0       0.0       0.0       0.0       0.0       0.0  \n",
       "17       0.0       0.0       0.0       0.0       0.0       0.0  \n",
       "18       1.0       0.0       0.0       0.0       0.0       0.0  \n",
       "19       0.0       1.0       0.0       0.0       0.0       0.0  \n",
       "20       0.0       0.0       1.0       0.0       0.0       0.0  \n",
       "21       0.0       0.0       0.0       1.0       0.0       0.0  \n",
       "22       0.0       0.0       0.0       0.0       1.0       0.0  \n",
       "23       0.0       0.0       0.0       0.0       0.0       1.0  \n",
       "\n",
       "[24 rows x 24 columns]"
      ]
     },
     "execution_count": 6,
     "metadata": {},
     "output_type": "execute_result"
    }
   ],
   "source": [
    "pd.DataFrame(label_dict)"
   ]
  },
  {
   "cell_type": "markdown",
   "metadata": {
    "papermill": {
     "duration": 0.016077,
     "end_time": "2020-09-08T20:41:55.536729",
     "exception": false,
     "start_time": "2020-09-08T20:41:55.520652",
     "status": "completed"
    },
    "tags": []
   },
   "source": [
    "## freq encoder "
   ]
  },
  {
   "cell_type": "code",
   "execution_count": 7,
   "metadata": {
    "execution": {
     "iopub.execute_input": "2020-09-08T20:41:55.792296Z",
     "iopub.status.busy": "2020-09-08T20:41:55.787201Z",
     "iopub.status.idle": "2020-09-08T20:41:55.799181Z",
     "shell.execute_reply": "2020-09-08T20:41:55.798456Z"
    },
    "papermill": {
     "duration": 0.246312,
     "end_time": "2020-09-08T20:41:55.799317",
     "exception": false,
     "start_time": "2020-09-08T20:41:55.553005",
     "status": "completed"
    },
    "tags": []
   },
   "outputs": [],
   "source": [
    "freq_bin = np.arange(0,5000)\n",
    "def split(word): \n",
    "    return [char for char in word] \n",
    "freq_bin_encode = [split(str(freq).zfill(4)) for freq in freq_bin]\n",
    "freq_bin_encode = [[int(digit) for digit in freq]  for freq in freq_bin_encode]\n",
    "freq_dict = dict(zip(list(freq_bin), freq_bin_encode))\n"
   ]
  },
  {
   "cell_type": "code",
   "execution_count": 8,
   "metadata": {
    "execution": {
     "iopub.execute_input": "2020-09-08T20:41:55.851607Z",
     "iopub.status.busy": "2020-09-08T20:41:55.846381Z",
     "iopub.status.idle": "2020-09-08T20:41:56.325802Z",
     "shell.execute_reply": "2020-09-08T20:41:56.324945Z"
    },
    "papermill": {
     "duration": 0.509886,
     "end_time": "2020-09-08T20:41:56.325956",
     "exception": false,
     "start_time": "2020-09-08T20:41:55.816070",
     "status": "completed"
    },
    "tags": []
   },
   "outputs": [
    {
     "data": {
      "text/html": [
       "<div>\n",
       "<style scoped>\n",
       "    .dataframe tbody tr th:only-of-type {\n",
       "        vertical-align: middle;\n",
       "    }\n",
       "\n",
       "    .dataframe tbody tr th {\n",
       "        vertical-align: top;\n",
       "    }\n",
       "\n",
       "    .dataframe thead th {\n",
       "        text-align: right;\n",
       "    }\n",
       "</style>\n",
       "<table border=\"1\" class=\"dataframe\">\n",
       "  <thead>\n",
       "    <tr style=\"text-align: right;\">\n",
       "      <th></th>\n",
       "      <th>0</th>\n",
       "      <th>1</th>\n",
       "      <th>2</th>\n",
       "      <th>3</th>\n",
       "      <th>4</th>\n",
       "      <th>5</th>\n",
       "      <th>6</th>\n",
       "      <th>7</th>\n",
       "      <th>8</th>\n",
       "      <th>9</th>\n",
       "      <th>...</th>\n",
       "      <th>4990</th>\n",
       "      <th>4991</th>\n",
       "      <th>4992</th>\n",
       "      <th>4993</th>\n",
       "      <th>4994</th>\n",
       "      <th>4995</th>\n",
       "      <th>4996</th>\n",
       "      <th>4997</th>\n",
       "      <th>4998</th>\n",
       "      <th>4999</th>\n",
       "    </tr>\n",
       "  </thead>\n",
       "  <tbody>\n",
       "    <tr>\n",
       "      <th>0</th>\n",
       "      <td>0</td>\n",
       "      <td>0</td>\n",
       "      <td>0</td>\n",
       "      <td>0</td>\n",
       "      <td>0</td>\n",
       "      <td>0</td>\n",
       "      <td>0</td>\n",
       "      <td>0</td>\n",
       "      <td>0</td>\n",
       "      <td>0</td>\n",
       "      <td>...</td>\n",
       "      <td>4</td>\n",
       "      <td>4</td>\n",
       "      <td>4</td>\n",
       "      <td>4</td>\n",
       "      <td>4</td>\n",
       "      <td>4</td>\n",
       "      <td>4</td>\n",
       "      <td>4</td>\n",
       "      <td>4</td>\n",
       "      <td>4</td>\n",
       "    </tr>\n",
       "    <tr>\n",
       "      <th>1</th>\n",
       "      <td>0</td>\n",
       "      <td>0</td>\n",
       "      <td>0</td>\n",
       "      <td>0</td>\n",
       "      <td>0</td>\n",
       "      <td>0</td>\n",
       "      <td>0</td>\n",
       "      <td>0</td>\n",
       "      <td>0</td>\n",
       "      <td>0</td>\n",
       "      <td>...</td>\n",
       "      <td>9</td>\n",
       "      <td>9</td>\n",
       "      <td>9</td>\n",
       "      <td>9</td>\n",
       "      <td>9</td>\n",
       "      <td>9</td>\n",
       "      <td>9</td>\n",
       "      <td>9</td>\n",
       "      <td>9</td>\n",
       "      <td>9</td>\n",
       "    </tr>\n",
       "    <tr>\n",
       "      <th>2</th>\n",
       "      <td>0</td>\n",
       "      <td>0</td>\n",
       "      <td>0</td>\n",
       "      <td>0</td>\n",
       "      <td>0</td>\n",
       "      <td>0</td>\n",
       "      <td>0</td>\n",
       "      <td>0</td>\n",
       "      <td>0</td>\n",
       "      <td>0</td>\n",
       "      <td>...</td>\n",
       "      <td>9</td>\n",
       "      <td>9</td>\n",
       "      <td>9</td>\n",
       "      <td>9</td>\n",
       "      <td>9</td>\n",
       "      <td>9</td>\n",
       "      <td>9</td>\n",
       "      <td>9</td>\n",
       "      <td>9</td>\n",
       "      <td>9</td>\n",
       "    </tr>\n",
       "    <tr>\n",
       "      <th>3</th>\n",
       "      <td>0</td>\n",
       "      <td>1</td>\n",
       "      <td>2</td>\n",
       "      <td>3</td>\n",
       "      <td>4</td>\n",
       "      <td>5</td>\n",
       "      <td>6</td>\n",
       "      <td>7</td>\n",
       "      <td>8</td>\n",
       "      <td>9</td>\n",
       "      <td>...</td>\n",
       "      <td>0</td>\n",
       "      <td>1</td>\n",
       "      <td>2</td>\n",
       "      <td>3</td>\n",
       "      <td>4</td>\n",
       "      <td>5</td>\n",
       "      <td>6</td>\n",
       "      <td>7</td>\n",
       "      <td>8</td>\n",
       "      <td>9</td>\n",
       "    </tr>\n",
       "  </tbody>\n",
       "</table>\n",
       "<p>4 rows × 5000 columns</p>\n",
       "</div>"
      ],
      "text/plain": [
       "   0     1     2     3     4     5     6     7     8     9     ...  4990  \\\n",
       "0     0     0     0     0     0     0     0     0     0     0  ...     4   \n",
       "1     0     0     0     0     0     0     0     0     0     0  ...     9   \n",
       "2     0     0     0     0     0     0     0     0     0     0  ...     9   \n",
       "3     0     1     2     3     4     5     6     7     8     9  ...     0   \n",
       "\n",
       "   4991  4992  4993  4994  4995  4996  4997  4998  4999  \n",
       "0     4     4     4     4     4     4     4     4     4  \n",
       "1     9     9     9     9     9     9     9     9     9  \n",
       "2     9     9     9     9     9     9     9     9     9  \n",
       "3     1     2     3     4     5     6     7     8     9  \n",
       "\n",
       "[4 rows x 5000 columns]"
      ]
     },
     "execution_count": 8,
     "metadata": {},
     "output_type": "execute_result"
    }
   ],
   "source": [
    "pd.DataFrame(freq_dict)"
   ]
  },
  {
   "cell_type": "markdown",
   "metadata": {
    "papermill": {
     "duration": 0.016516,
     "end_time": "2020-09-08T20:41:56.359551",
     "exception": false,
     "start_time": "2020-09-08T20:41:56.343035",
     "status": "completed"
    },
    "tags": []
   },
   "source": [
    "# Model"
   ]
  },
  {
   "cell_type": "code",
   "execution_count": 9,
   "metadata": {
    "execution": {
     "iopub.execute_input": "2020-09-08T20:41:56.400819Z",
     "iopub.status.busy": "2020-09-08T20:41:56.399806Z",
     "iopub.status.idle": "2020-09-08T20:41:56.402910Z",
     "shell.execute_reply": "2020-09-08T20:41:56.402151Z"
    },
    "papermill": {
     "duration": 0.026496,
     "end_time": "2020-09-08T20:41:56.403042",
     "exception": false,
     "start_time": "2020-09-08T20:41:56.376546",
     "status": "completed"
    },
    "scrolled": true,
    "tags": []
   },
   "outputs": [],
   "source": [
    "initializer = tf.keras.initializers.VarianceScaling()\n",
    "images_shape = [128,128,1]\n",
    "freqs_shape = len(freq_dict.get(0))\n",
    "output_size = len(label_dict)"
   ]
  },
  {
   "cell_type": "code",
   "execution_count": null,
   "metadata": {
    "execution": {
     "iopub.execute_input": "2020-09-08T20:41:56.443501Z",
     "iopub.status.busy": "2020-09-08T20:41:56.442753Z",
     "iopub.status.idle": "2020-09-08T20:41:58.480572Z",
     "shell.execute_reply": "2020-09-08T20:41:58.479696Z"
    },
    "papermill": {
     "duration": 2.060077,
     "end_time": "2020-09-08T20:41:58.480734",
     "exception": false,
     "start_time": "2020-09-08T20:41:56.420657",
     "status": "completed"
    },
    "tags": []
   },
   "outputs": [],
   "source": [
    "model = tf.keras.models.load_model(\"/kaggle/input/model-v2-e45/model_v2_e45.h5\")"
   ]
  },
  {
   "cell_type": "code",
   "execution_count": 10,
   "metadata": {
    "execution": {
     "iopub.execute_input": "2020-09-08T20:41:58.521516Z",
     "iopub.status.busy": "2020-09-08T20:41:58.520453Z",
     "iopub.status.idle": "2020-09-08T20:41:58.524302Z",
     "shell.execute_reply": "2020-09-08T20:41:58.523672Z"
    },
    "papermill": {
     "duration": 0.025735,
     "end_time": "2020-09-08T20:41:58.524431",
     "exception": false,
     "start_time": "2020-09-08T20:41:58.498696",
     "status": "completed"
    },
    "tags": []
   },
   "outputs": [],
   "source": [
    "# for layer in model.layers:\n",
    "#     print(layer.output_shape)"
   ]
  },
  {
   "cell_type": "markdown",
   "metadata": {
    "papermill": {
     "duration": 0.01702,
     "end_time": "2020-09-08T20:41:58.558695",
     "exception": false,
     "start_time": "2020-09-08T20:41:58.541675",
     "status": "completed"
    },
    "tags": []
   },
   "source": [
    "# audio Loader"
   ]
  },
  {
   "cell_type": "markdown",
   "metadata": {
    "papermill": {
     "duration": 0.016608,
     "end_time": "2020-09-08T20:41:58.592353",
     "exception": false,
     "start_time": "2020-09-08T20:41:58.575745",
     "status": "completed"
    },
    "tags": []
   },
   "source": [
    "## readWave"
   ]
  },
  {
   "cell_type": "code",
   "execution_count": 11,
   "metadata": {
    "execution": {
     "iopub.execute_input": "2020-09-08T20:41:58.639585Z",
     "iopub.status.busy": "2020-09-08T20:41:58.638411Z",
     "iopub.status.idle": "2020-09-08T20:41:58.641724Z",
     "shell.execute_reply": "2020-09-08T20:41:58.642397Z"
    },
    "papermill": {
     "duration": 0.032932,
     "end_time": "2020-09-08T20:41:58.642571",
     "exception": false,
     "start_time": "2020-09-08T20:41:58.609639",
     "status": "completed"
    },
    "scrolled": true,
    "tags": []
   },
   "outputs": [],
   "source": [
    "# load the audio as a wave, Store the sampling rate as `sr`\n",
    "def readWave(path, displayWave=False, windowSize = 200):\n",
    "#     def decode_mp3(path, normalized=False):\n",
    "#         \"\"\"MP3 to numpy array\"\"\"\n",
    "#         AS = AudioSegment.from_mp3(path)\n",
    "#         wave = np.array(AS.get_array_of_samples()).astype(float)\n",
    "#         sr = AS.frame_rate\n",
    "#         if AS.channels ==2:\n",
    "#             sr = sr * 2\n",
    "#         return wave, sr\n",
    "\n",
    "    def decode_mp3(path):\n",
    "        \"\"\"MP3 to numpy array\"\"\"\n",
    "        wave, sr = librosa.core.load(path, sr = 44100)\n",
    "        return wave, sr\n",
    "    \n",
    "    \n",
    "    wave, sr = decode_mp3(path)\n",
    "        \n",
    "#     add_time = int(windowSize * hop_length /sr /2) # about 6 second for windowSize = 2**9\n",
    "\n",
    "    if displayWave:\n",
    "        plt.figure(figsize=(10, 4))\n",
    "        librosa.display.waveplot(y = wave, sr=sr)\n",
    "        plt.title(path +\", sr=\" + str(sr) + \" (length: {})\".format(len(wave)))\n",
    "        plt.show()\n",
    "    return wave, sr\n"
   ]
  },
  {
   "cell_type": "markdown",
   "metadata": {
    "papermill": {
     "duration": 0.01684,
     "end_time": "2020-09-08T20:41:58.677578",
     "exception": false,
     "start_time": "2020-09-08T20:41:58.660738",
     "status": "completed"
    },
    "tags": []
   },
   "source": [
    "## wave2spectrogram"
   ]
  },
  {
   "cell_type": "code",
   "execution_count": 12,
   "metadata": {
    "execution": {
     "iopub.execute_input": "2020-09-08T20:41:58.756342Z",
     "iopub.status.busy": "2020-09-08T20:41:58.750949Z",
     "iopub.status.idle": "2020-09-08T20:41:58.777304Z",
     "shell.execute_reply": "2020-09-08T20:41:58.775909Z"
    },
    "papermill": {
     "duration": 0.075419,
     "end_time": "2020-09-08T20:41:58.777615",
     "exception": false,
     "start_time": "2020-09-08T20:41:58.702196",
     "status": "completed"
    },
    "scrolled": false,
    "tags": []
   },
   "outputs": [],
   "source": [
    "# waveform -> spectrogram\n",
    "def wave2spectrogram(wave, display = False, specType = \"db\"):\n",
    "    def denoise(spectrogram):\n",
    "        # prepare for extrapolation\n",
    "        spectrogram[spectrogram == 0] = 'nan'\n",
    "        # remove background white noise\n",
    "        spectrogram = scale(spectrogram, axis=1)\n",
    "        # repalce nan with global mean\n",
    "        spectrogram[np.isnan(spectrogram)] = np.nanmean(spectrogram).mean()\n",
    "        # amplify the signal # not so good\n",
    "#         spectrogram = spectrogram**(2)\n",
    "        return spectrogram\n",
    "    \n",
    "    def remap(x, out_min, out_max):\n",
    "        return (x - x.min()) * (out_max - out_min) / (x.max() - x.min()) + out_min\n",
    "\n",
    "    hop_length = 512 # number of samples between each successive FFT window\n",
    "    n_fft = 2048 # number of samples in a single window\n",
    "    \n",
    "    # db\n",
    "    stft_wave = librosa.stft(wave, n_fft=n_fft, hop_length=hop_length)\n",
    "    spectrogram = librosa.amplitude_to_db(abs(stft_wave))\n",
    "    spectrogram = remap(spectrogram, 0, 255)\n",
    "    spectrogram = denoise(spectrogram) \n",
    "    spectrogram = remap(spectrogram, 0, 255)\n",
    "    \n",
    "    if display and specType == \"db\":\n",
    "        plt.figure(figsize=(10, 4))\n",
    "        librosa.display.specshow(spectrogram, sr=sr, y_axis='hz', x_axis='time')\n",
    "        plt.title(\"db spectrogram: {}\".format(spectrogram.shape))\n",
    "        plt.colorbar()\n",
    "        plt.show()\n",
    "    # melspectrogram  \n",
    "    if specType == \"mel\":\n",
    "        spectrogram = librosa.feature.melspectrogram(y=wave, n_fft=n_fft, hop_length=hop_length)\n",
    "        spectrogram = remap(spectrogram, 0, 255)\n",
    "    if display and specType == \"mel\":\n",
    "        plt.figure(figsize=(10, 4))\n",
    "        librosa.display.specshow(spectrogram, sr=sr, y_axis='mel', x_axis='time')\n",
    "        plt.title(\"Mel spectrogram: {})\".format(spectrogram.shape))\n",
    "        plt.colorbar()\n",
    "        plt.show()\n",
    "        \n",
    "    return spectrogram\n",
    "\n"
   ]
  },
  {
   "cell_type": "code",
   "execution_count": 13,
   "metadata": {
    "execution": {
     "iopub.execute_input": "2020-09-08T20:41:58.868138Z",
     "iopub.status.busy": "2020-09-08T20:41:58.866533Z",
     "iopub.status.idle": "2020-09-08T20:41:58.871049Z",
     "shell.execute_reply": "2020-09-08T20:41:58.872376Z"
    },
    "papermill": {
     "duration": 0.062995,
     "end_time": "2020-09-08T20:41:58.872650",
     "exception": false,
     "start_time": "2020-09-08T20:41:58.809655",
     "status": "completed"
    },
    "tags": []
   },
   "outputs": [],
   "source": [
    "def meanboundary(spectrogram, sr = 44100, hop_length = 512, time = 0.2, display = False):\n",
    "    height = spectrogram.shape[0]\n",
    "    width = spectrogram.shape[1]\n",
    "    width_remove = round(time * sr / hop_length)\n",
    "    # left and right\n",
    "    replacewith = spectrogram.mean()\n",
    "    spectrogram[:, 0: width_remove] = replacewith\n",
    "    spectrogram[:, width - width_remove: width] = replacewith\n",
    "    spectrogram[0: 3, :] = replacewith\n",
    "    spectrogram[height - 3: height, :] = replacewith\n",
    "    \n",
    "    if display:\n",
    "        plt.figure(figsize=(10, 4))\n",
    "        # sns.heatmap(spectrogram)\n",
    "        plt.title(\"spectrogram: {})\".format(spectrogram.shape))\n",
    "        plt.gca().invert_yaxis()\n",
    "        plt.show()\n",
    "    return spectrogram\n"
   ]
  },
  {
   "cell_type": "markdown",
   "metadata": {
    "papermill": {
     "duration": 0.031616,
     "end_time": "2020-09-08T20:41:58.939537",
     "exception": false,
     "start_time": "2020-09-08T20:41:58.907921",
     "status": "completed"
    },
    "tags": []
   },
   "source": [
    "## spectrogram2image (Sound Event Detection by Max, Min filters)"
   ]
  },
  {
   "cell_type": "code",
   "execution_count": 14,
   "metadata": {
    "execution": {
     "iopub.execute_input": "2020-09-08T20:41:59.016373Z",
     "iopub.status.busy": "2020-09-08T20:41:59.010539Z",
     "iopub.status.idle": "2020-09-08T20:41:59.030373Z",
     "shell.execute_reply": "2020-09-08T20:41:59.029116Z"
    },
    "papermill": {
     "duration": 0.06562,
     "end_time": "2020-09-08T20:41:59.030650",
     "exception": false,
     "start_time": "2020-09-08T20:41:58.965030",
     "status": "completed"
    },
    "tags": []
   },
   "outputs": [],
   "source": [
    "def remap(x, out_min, out_max):\n",
    "    return (x - x.min()) * (out_max - out_min) / (x.max() - x.min()) + out_min\n",
    "\n",
    "def findLocalMax(spectrogram, neighborhood_size, threshold):\n",
    "    spectrogram_min = filters.minimum_filter(spectrogram, neighborhood_size)\n",
    "    spectrogram_max = filters.maximum_filter(spectrogram, neighborhood_size)\n",
    "    diff_spectrogram = (spectrogram_max - spectrogram_min)\n",
    "    diff_spectrogram = remap(diff_spectrogram, 0, 1)\n",
    "    diff = ((diff_spectrogram) > threshold)\n",
    "    maxima = np.logical_and(spectrogram == spectrogram_max, diff)\n",
    "    \n",
    "    \n",
    "    plt.figure(figsize=(10, 4))\n",
    "    # sns.heatmap(diff_spectrogram)\n",
    "    plt.gca().invert_yaxis()\n",
    "    plt.show()\n",
    "    plt.figure(figsize=(10, 4))\n",
    "    # sns.heatmap(diff)\n",
    "    plt.gca().invert_yaxis()\n",
    "    plt.show()\n",
    "    return maxima\n"
   ]
  },
  {
   "cell_type": "code",
   "execution_count": 15,
   "metadata": {
    "execution": {
     "iopub.execute_input": "2020-09-08T20:41:59.129974Z",
     "iopub.status.busy": "2020-09-08T20:41:59.102594Z",
     "iopub.status.idle": "2020-09-08T20:41:59.152753Z",
     "shell.execute_reply": "2020-09-08T20:41:59.154277Z"
    },
    "papermill": {
     "duration": 0.093234,
     "end_time": "2020-09-08T20:41:59.154691",
     "exception": false,
     "start_time": "2020-09-08T20:41:59.061457",
     "status": "completed"
    },
    "scrolled": false,
    "tags": []
   },
   "outputs": [],
   "source": [
    "def getMelMaximaIndex(mel_spectrogram, sr, clip_length = 60, displaySpectralPoint = False):\n",
    "    def getSplitMelMaximaIndex(spectrogram, neighborhood_size = 32, threshold = 0.4, sample = 30):\n",
    "        \"\"\"\n",
    "        modified from \n",
    "        https://stackoverflow.com/questions/9111711/get-coordinates-of-local-maxima-in-2d-array-above-certain-value\n",
    "        \"\"\"\n",
    "        def denoise(spectrogram):\n",
    "            # prepare for extrapolation\n",
    "            spectrogram[spectrogram < 0] = 'nan'\n",
    "            # remove background white noise\n",
    "            spectrogram = scale(spectrogram, axis=1)\n",
    "            # repalce nan with global mean\n",
    "            spectrogram[np.isnan(spectrogram)] = np.nanmean(spectrogram).mean()\n",
    "            # amplify the signal # not so good\n",
    "            #spectrogram = spectrogram**2\n",
    "            return spectrogram\n",
    "\n",
    "        def remap(x, out_min, out_max):\n",
    "            return (x - x.min()) * (out_max - out_min) / (x.max() - x.min()) + out_min\n",
    "        \n",
    "        def findLocalMax(spectrogram, neighborhood_size, threshold):\n",
    "            spectrogram_min = filters.minimum_filter(spectrogram, neighborhood_size)\n",
    "            spectrogram_max = filters.maximum_filter(spectrogram, neighborhood_size)\n",
    "            diff_spectrogram = (spectrogram_max - spectrogram_min)\n",
    "            diff_spectrogram = remap(diff_spectrogram, 0, 1)\n",
    "            diff = ((diff_spectrogram) > threshold)\n",
    "            maxima = np.logical_and(spectrogram == spectrogram_max, diff)\n",
    "            return maxima\n",
    "        \n",
    "        maxima_reg = findLocalMax(spectrogram = spectrogram, \n",
    "                                  neighborhood_size = neighborhood_size, \n",
    "                                  threshold = threshold)\n",
    "        \n",
    "        spectrogram = remap(spectrogram, -1, 1)\n",
    "        spectrogram = denoise(spectrogram) \n",
    "        spectrogram = remap(spectrogram, 0, 1)\n",
    "        maxima_denoise = findLocalMax(spectrogram = spectrogram, \n",
    "                                  neighborhood_size = neighborhood_size, \n",
    "                                  threshold = threshold)\n",
    "\n",
    "        maxima = np.logical_or(maxima_reg, maxima_denoise)\n",
    "        \n",
    "\n",
    "        labeled, num_objects = ndimage.label(maxima)\n",
    "        xy = np.array(ndimage.center_of_mass(maxima, labeled, range(1, num_objects+1)))\n",
    "        \n",
    "#         print(\"num of valid maxima_reg: \", maxima_reg.sum())\n",
    "#         print(\"num of valid maxima_denoise: \", maxima_denoise.sum())\n",
    "#         print(\"num of valid maxima: \", maxima.sum())\n",
    "#         print(np.argwhere(labeled != 0))\n",
    "        x = []\n",
    "        y = []\n",
    "        if len(xy.shape)>1:\n",
    "            xy = xy[~np.isnan(xy).any(axis=1)]\n",
    "            y = list(np.around(xy[:,0]).astype(int))\n",
    "            x = list(np.around(xy[:,1]).astype(int))\n",
    "            # limite max num of samples\n",
    "            if len(x) > sample:\n",
    "                sampled_indice = random.sample(list(range(len(x))), sample)\n",
    "                x = [ x[i] for i in sampled_indice ]\n",
    "                y = [ y[i] for i in sampled_indice ]\n",
    "        return x, y\n",
    "    \"\"\"\n",
    "    modified from \n",
    "    https://stackoverflow.com/questions/37999150/how-to-split-a-wav-file-into-multiple-wav-files\n",
    "    \"\"\"\n",
    "    # define croping area\n",
    "    hop_length = 512\n",
    "    totalIndex = mel_spectrogram.shape[1]\n",
    "    # scan for every 1 mins as defaul \n",
    "    min_fft_per_split = int(clip_length * sr / hop_length)\n",
    "    max_num_split = totalIndex // min_fft_per_split\n",
    "    if max_num_split ==0: \n",
    "        # in case max_num_split ==0\n",
    "        xs, ys = getSplitMelMaximaIndex(spectrogram = mel_spectrogram)\n",
    "    else:\n",
    "        min_fft_per_split = math.ceil(totalIndex / max_num_split)\n",
    "        # overLap with 1/4 * mins_per_split\n",
    "        split_overLap = math.ceil(min_fft_per_split*3/4)\n",
    "        # split spectrogram in to piece and get local mel xy\n",
    "        xs = []\n",
    "        ys = []\n",
    "        for i in range(0, totalIndex, split_overLap):\n",
    "            # output for each clip\n",
    "            if i + min_fft_per_split <= totalIndex:\n",
    "                index_clip = np.arange(totalIndex)[i: i + min_fft_per_split]\n",
    "            if i + min_fft_per_split > totalIndex:\n",
    "                index_clip = np.arange(totalIndex)[i: totalIndex]\n",
    "            # calculate x and y at mel_spectrogram \n",
    "            x, y = getSplitMelMaximaIndex(spectrogram = mel_spectrogram[:,index_clip])\n",
    "            \n",
    "            x = list(np.array(x, dtype = type(x) ) + i)\n",
    "            xs += x\n",
    "            ys += y\n",
    "        \n",
    "    if displaySpectralPoint and len(ys)>1:\n",
    "        plt.figure(figsize=(10, 4))\n",
    "        # sns.heatmap(mel_spectrogram)\n",
    "        plt.plot(xs, ys, 'ro', mfc='none', color='white')\n",
    "        plt.title(\"mel spectrogram {} (split: {}), (points: {})\".format(mel_spectrogram.shape, max_num_split, len(ys)))\n",
    "        plt.gca().invert_yaxis()\n",
    "        plt.show()\n",
    "    return xs, ys\n",
    "\n",
    "\n",
    "\n",
    "# there is some issue, but so clear. find a way to combine reg and denoised maximum "
   ]
  },
  {
   "cell_type": "code",
   "execution_count": 16,
   "metadata": {
    "execution": {
     "iopub.execute_input": "2020-09-08T20:41:59.225301Z",
     "iopub.status.busy": "2020-09-08T20:41:59.223900Z",
     "iopub.status.idle": "2020-09-08T20:41:59.229771Z",
     "shell.execute_reply": "2020-09-08T20:41:59.228405Z"
    },
    "papermill": {
     "duration": 0.050996,
     "end_time": "2020-09-08T20:41:59.230004",
     "exception": false,
     "start_time": "2020-09-08T20:41:59.179008",
     "status": "completed"
    },
    "scrolled": true,
    "tags": []
   },
   "outputs": [],
   "source": [
    "def yMelIndex2yhz(y_mel_index, sr, n_fft=2048):\n",
    "    hz_scale = librosa.core.fft_frequencies(sr=sr, n_fft=n_fft)\n",
    "    mel_scale = librosa.core.mel_frequencies(n_mels=128, fmin=hz_scale.min(), \n",
    "                                             fmax=hz_scale.max(), htk=False)\n",
    "    y_hz = mel_scale[int(y_mel_index)] \n",
    "    return y_hz/10\n"
   ]
  },
  {
   "cell_type": "code",
   "execution_count": 17,
   "metadata": {
    "execution": {
     "iopub.execute_input": "2020-09-08T20:41:59.297087Z",
     "iopub.status.busy": "2020-09-08T20:41:59.293589Z",
     "iopub.status.idle": "2020-09-08T20:41:59.300754Z",
     "shell.execute_reply": "2020-09-08T20:41:59.299771Z"
    },
    "papermill": {
     "duration": 0.040008,
     "end_time": "2020-09-08T20:41:59.300943",
     "exception": false,
     "start_time": "2020-09-08T20:41:59.260935",
     "status": "completed"
    },
    "scrolled": false,
    "tags": []
   },
   "outputs": [],
   "source": [
    "def ymel2hzindex(y_mel_index, sr, n_fft = 2048, printSummary = False):\n",
    "    def find_nearest(a, a0):\n",
    "        \"\"\"\n",
    "        https://stackoverflow.com/questions/2566412/find-nearest-value-in-numpy-array\n",
    "        \"\"\"\n",
    "        \"Element in nd array `a` closest to the scalar value `a0`\"\n",
    "        idx = np.abs(a - a0).argmin()\n",
    "        return a.flat[idx]\n",
    "    \"\"\"\n",
    "    http://man.hubwiz.com/docset/LibROSA.docset/Contents/Resources/Documents/_modules/librosa/display.html#specshow\n",
    "    \"\"\"\n",
    "    hz_scale = librosa.core.fft_frequencies(sr=sr, n_fft=n_fft)\n",
    "    mel_scale = librosa.core.mel_frequencies(n_mels=128, \n",
    "                                               fmin=hz_scale.min(), fmax=hz_scale.max(), htk=False)\n",
    "\n",
    "    y_hz = mel_scale[int(y_mel_index)] \n",
    "    y_hz_nearest = find_nearest(hz_scale, y_hz)\n",
    "    y_hz_index = list(hz_scale).index(y_hz_nearest)\n",
    "    if printSummary:\n",
    "        print(\"y_mel_index: {}, \".format(y_mel_index), \n",
    "              \"y_hz: {}\".format(y_hz), \n",
    "              \"y_hz_index: {}, \".format(y_hz_index), \n",
    "              \"(y_hz_nearest: {}) \".format(y_hz_nearest))\n",
    "    return y_hz_index\n"
   ]
  },
  {
   "cell_type": "code",
   "execution_count": 18,
   "metadata": {
    "execution": {
     "iopub.execute_input": "2020-09-08T20:41:59.355209Z",
     "iopub.status.busy": "2020-09-08T20:41:59.350004Z",
     "iopub.status.idle": "2020-09-08T20:41:59.366169Z",
     "shell.execute_reply": "2020-09-08T20:41:59.365309Z"
    },
    "papermill": {
     "duration": 0.043502,
     "end_time": "2020-09-08T20:41:59.366370",
     "exception": false,
     "start_time": "2020-09-08T20:41:59.322868",
     "status": "completed"
    },
    "tags": []
   },
   "outputs": [],
   "source": [
    "def cropResize(spectrogram, xdata, ydata, \n",
    "               window_height_haft = 200, window_width_haft = 200,  \n",
    "               resizeShape = (128,128),\n",
    "               displayCropedImage = False):\n",
    "    \n",
    "    # define cropping window\n",
    "    h_spec = spectrogram.shape[0]\n",
    "    w_spec = spectrogram.shape[1]\n",
    "\n",
    "    w_l = xdata - window_width_haft\n",
    "    w_h = xdata + window_width_haft\n",
    "    h_l = ydata - window_height_haft\n",
    "    h_h = ydata + window_height_haft\n",
    "    w_l_offset = - w_l if w_l <= 0 else 0\n",
    "    w_h_offset = window_height_haft*2 - (w_h - w_spec) if w_h >= w_spec else window_height_haft*2\n",
    "    h_l_offset = - h_l if h_l <= 0 else 0\n",
    "    h_h_offset = window_height_haft*2 - (h_h - h_spec) if h_h >= h_spec else window_height_haft*2\n",
    "    \n",
    "    w_l = w_l if w_l >= 0 else 0\n",
    "    w_h = w_h if w_h <= w_spec else w_spec\n",
    "    h_l = h_l if h_l >= 0 else 0\n",
    "    h_h = h_h if h_h <= h_spec else h_spec\n",
    "\n",
    "    # crop image\n",
    "    image = spectrogram[ h_l: h_h, w_l: w_h ]   \n",
    "    img = np.full((window_height_haft*2, window_width_haft*2), image.mean() ) # create a single channel  image  \n",
    "    img[h_l_offset: h_h_offset, w_l_offset: w_h_offset ] = image[:,:]\n",
    "\n",
    "    # resize\n",
    "    image = cv2.resize(img, resizeShape, cv2.INTER_AREA)  \n",
    "    \n",
    "    def remap(x, out_min, out_max):\n",
    "        return (x - x.min()) * (out_max - out_min) / (x.max() - x.min()) + out_min\n",
    "    image = remap(image, 0, 255)\n",
    "    \n",
    "    if displayCropedImage:\n",
    "        plt.figure(figsize=(4, 4))\n",
    "        sns.heatmap(img, cbar = False)\n",
    "        plt.title(\"croped image {}  at ({}, {})\".format(image.shape, xdata, ydata))\n",
    "        plt.gca().invert_yaxis()\n",
    "        plt.show()\n",
    "    \n",
    "    return np.expand_dims(image, -1)\n"
   ]
  },
  {
   "cell_type": "code",
   "execution_count": 19,
   "metadata": {
    "execution": {
     "iopub.execute_input": "2020-09-08T20:41:59.427401Z",
     "iopub.status.busy": "2020-09-08T20:41:59.426341Z",
     "iopub.status.idle": "2020-09-08T20:41:59.430392Z",
     "shell.execute_reply": "2020-09-08T20:41:59.429553Z"
    },
    "papermill": {
     "duration": 0.041361,
     "end_time": "2020-09-08T20:41:59.430576",
     "exception": false,
     "start_time": "2020-09-08T20:41:59.389215",
     "status": "completed"
    },
    "scrolled": true,
    "tags": []
   },
   "outputs": [],
   "source": [
    "def plotSpecWin(x, y, spectrogram, window_height_haft = 200, window_width_haft = 200):\n",
    "    def makeBoxes(ax, x, y, window_width_haft, window_height_haft,\n",
    "                  linewidth=1, edgecolor='white', facecolor='none'):\n",
    "        \"\"\"\n",
    "        modify from\n",
    "        https://matplotlib.org/api/_as_gen/matplotlib.patches.Rectangle.html#matplotlib.patches.Rectangle\n",
    "        \"\"\"\n",
    "        # define cropping window\n",
    "        h_spec = spectrogram.shape[0]\n",
    "        w_spec = spectrogram.shape[1]\n",
    "        \n",
    "        w_l = [i - window_width_haft if i - window_width_haft >= 0 else 0 for i in x]\n",
    "        w_h = [i + window_width_haft if i + window_width_haft <= w_spec else w_spec for i in x]\n",
    "        h_l = [i - window_height_haft if i - window_height_haft >= 0 else 0 for i in y]\n",
    "        h_h = [i + window_height_haft if i + window_height_haft <= h_spec else h_spec for i in y]\n",
    "\n",
    "        boxes = zip(w_l,\n",
    "                    h_l,\n",
    "                    list(np.array(w_h)- np.array(w_l)), \n",
    "                    list(np.array(h_h)- np.array(h_l)))\n",
    "        # Loop over data points; create box from errors at each point\n",
    "        errorboxes = [Rectangle((x, y), xe, ye) for x, y, xe, ye in boxes]\n",
    "        # Create patch collection with specified colour/alpha\n",
    "        pc = PatchCollection(errorboxes,\n",
    "                             linewidth=linewidth, \n",
    "                             edgecolor = edgecolor, \n",
    "                             facecolor = facecolor)\n",
    "        return pc\n",
    "    fig = plt.figure(figsize=(10, 4))\n",
    "    ax = fig.subplots()\n",
    "    sns.heatmap(spectrogram)\n",
    "    pc = makeBoxes(ax, x, y, window_width_haft, window_height_haft)\n",
    "    ax.add_collection(pc) # # Add collection to axes\n",
    "    plt.title(\"spectrogram {} with cropping windows\".format(spectrogram.shape))\n",
    "    fig.gca().invert_yaxis()\n",
    "    fig.show()\n"
   ]
  },
  {
   "cell_type": "code",
   "execution_count": 20,
   "metadata": {
    "execution": {
     "iopub.execute_input": "2020-09-08T20:41:59.487701Z",
     "iopub.status.busy": "2020-09-08T20:41:59.486595Z",
     "iopub.status.idle": "2020-09-08T20:41:59.490883Z",
     "shell.execute_reply": "2020-09-08T20:41:59.489904Z"
    },
    "papermill": {
     "duration": 0.035445,
     "end_time": "2020-09-08T20:41:59.491071",
     "exception": false,
     "start_time": "2020-09-08T20:41:59.455626",
     "status": "completed"
    },
    "scrolled": false,
    "tags": []
   },
   "outputs": [],
   "source": [
    "def xIndex2xTime(x_index, sr = 44100):\n",
    "    hop_length = 512\n",
    "    x_time = x_index / sr * hop_length\n",
    "    x_time = round(x_time, 1)\n",
    "    \n",
    "    return x_time\n"
   ]
  },
  {
   "cell_type": "code",
   "execution_count": 21,
   "metadata": {
    "execution": {
     "iopub.execute_input": "2020-09-08T20:41:59.557301Z",
     "iopub.status.busy": "2020-09-08T20:41:59.556333Z",
     "iopub.status.idle": "2020-09-08T20:41:59.559781Z",
     "shell.execute_reply": "2020-09-08T20:41:59.559106Z"
    },
    "papermill": {
     "duration": 0.043904,
     "end_time": "2020-09-08T20:41:59.559963",
     "exception": false,
     "start_time": "2020-09-08T20:41:59.516059",
     "status": "completed"
    },
    "scrolled": false,
    "tags": []
   },
   "outputs": [],
   "source": [
    "# spectrogram -> images\n",
    "def spectrogram2image(db_spectrogram, mel_spectrogram, sr, clip_length= 60,\n",
    "                      window_height_haft = 200, window_width_haft = 200, \n",
    "                      displaySpectralPoint = False, displayPointCoord = False, \n",
    "                      displayCropedImage = False, displayCropedSpec = False):\n",
    "    # get the coordinatate center of proposed windows\n",
    "    x,y = getMelMaximaIndex(mel_spectrogram = mel_spectrogram, sr = sr,clip_length=clip_length, displaySpectralPoint = displaySpectralPoint)  \n",
    "    # find corresponding y_hzs\n",
    "    y_hz = map(lambda y: yMelIndex2yhz(y_mel_index = y, sr = sr), y)\n",
    "    # find the time in the original audio\n",
    "    x_time = map(lambda x: xIndex2xTime(x_index = x, sr = sr), x)\n",
    "    # cast the mel scale coordination back to hz scale\n",
    "    y = list(map(lambda y: ymel2hzindex(y_mel_index = y, sr = sr), y))\n",
    "    # crop and resized images \n",
    "    image_db = map(lambda x, y: cropResize(xdata = x, ydata = y,\n",
    "                                         spectrogram = db_spectrogram, \n",
    "                                         window_height_haft = window_height_haft, \n",
    "                                         window_width_haft = window_width_haft,\n",
    "                                         displayCropedImage = displayCropedImage), x, y)  \n",
    "    if displayCropedSpec:\n",
    "        plotSpecWin(x = x, y = y, spectrogram = db_spectrogram, \n",
    "                    window_width_haft = window_width_haft, window_height_haft = window_height_haft)      \n",
    "    return list(image_db), len(x), list(y_hz), list(x_time)\n"
   ]
  },
  {
   "cell_type": "markdown",
   "metadata": {
    "papermill": {
     "duration": 0.017959,
     "end_time": "2020-09-08T20:41:59.596612",
     "exception": false,
     "start_time": "2020-09-08T20:41:59.578653",
     "status": "completed"
    },
    "tags": []
   },
   "source": [
    "## composited loader"
   ]
  },
  {
   "cell_type": "code",
   "execution_count": 22,
   "metadata": {
    "execution": {
     "iopub.execute_input": "2020-09-08T20:41:59.649740Z",
     "iopub.status.busy": "2020-09-08T20:41:59.648013Z",
     "iopub.status.idle": "2020-09-08T20:41:59.653691Z",
     "shell.execute_reply": "2020-09-08T20:41:59.652990Z"
    },
    "papermill": {
     "duration": 0.039052,
     "end_time": "2020-09-08T20:41:59.653823",
     "exception": false,
     "start_time": "2020-09-08T20:41:59.614771",
     "status": "completed"
    },
    "scrolled": true,
    "tags": []
   },
   "outputs": [],
   "source": [
    "def dataLoader(filename, clip_length = 60,\n",
    "               window_height = 200, window_width = 200,\n",
    "               displayWave = False, displaySpectrogram = False, \n",
    "               displaySpectralPoint = False, displayPointCoord = False,\n",
    "               displayCropedImage = False, displayCropedSpec = False):\n",
    "    window_height_haft = int(window_height/2)\n",
    "    window_width_haft = int(window_width/2)\n",
    "    # read audio file\n",
    "    wave, sr = readWave(filename, displayWave = displayWave, windowSize = window_height)\n",
    "    # generate spectrogram\n",
    "    db_spectrogram = wave2spectrogram(wave, display = displaySpectrogram, specType = \"db\")\n",
    "    mel_spectrogram = wave2spectrogram(wave, display = displaySpectrogram, specType = \"mel\")\n",
    "    db_spectrogram = meanboundary(db_spectrogram, sr = sr)\n",
    "    mel_spectrogram = meanboundary(mel_spectrogram, sr = sr)  \n",
    "    # generate images\n",
    "    images, num_images, y_hz, x_time = spectrogram2image(db_spectrogram = db_spectrogram,\n",
    "                                           mel_spectrogram = mel_spectrogram,\n",
    "                                           sr = sr, \n",
    "                                           clip_length = clip_length,\n",
    "                                           window_height_haft = window_height_haft, \n",
    "                                           window_width_haft = window_width_haft,\n",
    "                                           displaySpectralPoint = displaySpectralPoint,\n",
    "                                           displayPointCoord = displayPointCoord,\n",
    "                                           displayCropedImage = displayCropedImage,\n",
    "                                           displayCropedSpec = displayCropedSpec)  \n",
    "    return images, num_images, y_hz, x_time"
   ]
  },
  {
   "cell_type": "markdown",
   "metadata": {
    "papermill": {
     "duration": 0.018108,
     "end_time": "2020-09-08T20:41:59.690496",
     "exception": false,
     "start_time": "2020-09-08T20:41:59.672388",
     "status": "completed"
    },
    "tags": []
   },
   "source": [
    "# Data generator "
   ]
  },
  {
   "cell_type": "markdown",
   "metadata": {
    "papermill": {
     "duration": 0.018361,
     "end_time": "2020-09-08T20:41:59.727331",
     "exception": false,
     "start_time": "2020-09-08T20:41:59.708970",
     "status": "completed"
    },
    "tags": []
   },
   "source": [
    "## load audio and produce images"
   ]
  },
  {
   "cell_type": "code",
   "execution_count": 23,
   "metadata": {
    "execution": {
     "iopub.execute_input": "2020-09-08T20:41:59.778924Z",
     "iopub.status.busy": "2020-09-08T20:41:59.777565Z",
     "iopub.status.idle": "2020-09-08T20:41:59.780580Z",
     "shell.execute_reply": "2020-09-08T20:41:59.781161Z"
    },
    "papermill": {
     "duration": 0.035612,
     "end_time": "2020-09-08T20:41:59.781343",
     "exception": false,
     "start_time": "2020-09-08T20:41:59.745731",
     "status": "completed"
    },
    "scrolled": false,
    "tags": []
   },
   "outputs": [],
   "source": [
    "def paths_to_image(audio_paths, i, clip_length = 60, verbose = 0):\n",
    "    \"\"\"\n",
    "    modified from\n",
    "    https://keras.io/examples/audio/speaker_recognition_using_cnn/\n",
    "    Constructs a dataset of audios and labels.\n",
    "    \"\"\"        \n",
    "    image_ds = []\n",
    "    freqs_ds = []\n",
    "    times_ds =[]\n",
    "    image_audio_paths = []\n",
    "    len_audio_path = len(audio_paths)\n",
    "    for num_audio_path in np.arange(len_audio_path):\n",
    "        images, num_images, freqs, times = dataLoader(audio_paths[num_audio_path], clip_length = clip_length) # crop\n",
    "        image_ds += images\n",
    "        freqs_ds += freqs\n",
    "        times_ds += times\n",
    "        image_audio_paths += [audio_paths[num_audio_path]] * num_images\n",
    "        if verbose == 1:\n",
    "            print(\"processing {}\".format(audio_paths[num_audio_path]))\n",
    "            print(\"batch_{} ({}/{}):  +{} , total sample: {}\".format(\n",
    "                i, num_audio_path+1, len_audio_path, len(images), len(times_ds)))\n",
    "        if verbose == 0:\n",
    "            print(\"batch_{} ({}/{}): processing {}\".format(\n",
    "                i, num_audio_path+1, len_audio_path, audio_paths[num_audio_path]))\n",
    "    print(\"Total sample: {}\".format(len(times_ds)))\n",
    "    return image_audio_paths, image_ds, freqs_ds, times_ds\n"
   ]
  },
  {
   "cell_type": "markdown",
   "metadata": {
    "papermill": {
     "duration": 0.01829,
     "end_time": "2020-09-08T20:41:59.818485",
     "exception": false,
     "start_time": "2020-09-08T20:41:59.800195",
     "status": "completed"
    },
    "tags": []
   },
   "source": [
    "## save crop spec image"
   ]
  },
  {
   "cell_type": "code",
   "execution_count": 24,
   "metadata": {
    "execution": {
     "iopub.execute_input": "2020-09-08T20:41:59.869868Z",
     "iopub.status.busy": "2020-09-08T20:41:59.864434Z",
     "iopub.status.idle": "2020-09-08T20:41:59.874379Z",
     "shell.execute_reply": "2020-09-08T20:41:59.875025Z"
    },
    "papermill": {
     "duration": 0.037936,
     "end_time": "2020-09-08T20:41:59.875218",
     "exception": false,
     "start_time": "2020-09-08T20:41:59.837282",
     "status": "completed"
    },
    "scrolled": true,
    "tags": []
   },
   "outputs": [],
   "source": [
    "# loop over the label and save files \n",
    "def saveImage(image_audio_paths, image_ds, freqs_ds, times_ds, save_dir):\n",
    "    \"\"\"\n",
    "    modified from\n",
    "    https://stackoverflow.com/questions/2659312/how-do-i-convert-a-numpy-array-to-and-display-an-image\n",
    "    \"\"\"\n",
    "    # create folder for input_data\n",
    "    if not os.path.exists(save_dir):\n",
    "        os.mkdir(save_dir)\n",
    "    len_sample = len(freqs_ds)\n",
    "    times_ds = [str(times).replace('.', '') for times in times_ds]\n",
    "\n",
    "    for num_smaple in np.arange(len_sample):\n",
    "        # create label folder if not exist\n",
    "        if not os.path.exists(save_dir):\n",
    "            os.mkdir(save_dir)\n",
    "        # write png file\n",
    "        img = image_ds[num_smaple][:,:,0]\n",
    "        img = img.astype(np.uint8)\n",
    "        img = Image.fromarray(img, 'L')\n",
    "        freqs_ds = list(map(int, freqs_ds))\n",
    "        audio_filename = image_audio_paths[num_smaple].split('/')[-1].split('.')[0]\n",
    "        img.save(save_dir + \"/{}_{}_{}.jpg\".format(audio_filename, freqs_ds[num_smaple], times_ds[num_smaple]))\n"
   ]
  },
  {
   "cell_type": "markdown",
   "metadata": {
    "papermill": {
     "duration": 0.069709,
     "end_time": "2020-09-08T20:41:59.963334",
     "exception": false,
     "start_time": "2020-09-08T20:41:59.893625",
     "status": "completed"
    },
    "tags": []
   },
   "source": [
    "# Locate the test audio path"
   ]
  },
  {
   "cell_type": "code",
   "execution_count": 25,
   "metadata": {
    "execution": {
     "iopub.execute_input": "2020-09-08T20:42:00.014097Z",
     "iopub.status.busy": "2020-09-08T20:42:00.012976Z",
     "iopub.status.idle": "2020-09-08T20:42:00.337608Z",
     "shell.execute_reply": "2020-09-08T20:42:00.336699Z"
    },
    "papermill": {
     "duration": 0.355711,
     "end_time": "2020-09-08T20:42:00.337769",
     "exception": false,
     "start_time": "2020-09-08T20:41:59.982058",
     "status": "completed"
    },
    "tags": []
   },
   "outputs": [
    {
     "name": "stdout",
     "output_type": "stream",
     "text": [
      "/kaggle/input/birdsong-recognition/test_audio/ /kaggle/input/birdsong-recognition/test_audio/\n",
      "Running debug submission\n",
      "Naturally no test dir found\n",
      "test_root:  /kaggle/input/birdcall-check/\n",
      "test_dir:  /kaggle/input/birdcall-check/test_audio\n"
     ]
    }
   ],
   "source": [
    "test_root = \"/kaggle/input/birdsong-recognition/\"\n",
    "test_dir = test_root + 'test_audio/'\n",
    "print(test_dir, test_dir)\n",
    "\n",
    "if os.path.isdir(test_dir):\n",
    "    print('Running actual submission!')\n",
    "    test_root = test_root\n",
    "    test_dir = test_root + \"test_audio/\"\n",
    "    test_df = test_root + 'test.csv' \n",
    "    test_df = pd.read_csv(test_df)\n",
    "    print(\"test_root: \", test_root)\n",
    "    print(\"test_dir: \", test_dir)\n",
    "else:\n",
    "#     test_folder = 'faketest/'\n",
    "    test_folder = 'birdcall-check/'\n",
    "    print('Running debug submission')\n",
    "    test_root = '/kaggle/input/'  + test_folder\n",
    "    test_dir = test_root + \"test_audio\"\n",
    "    test_df = test_root + 'test.csv'\n",
    "    test_df = pd.read_csv(test_df)\n",
    "    print('Naturally no test dir found') \n",
    "    print(\"test_root: \", test_root)\n",
    "    print(\"test_dir: \", test_dir)\n",
    "sub = pd.read_csv(\"/kaggle/input/birdsong-recognition/sample_submission.csv\")\n",
    "sub.to_csv(\"submission.csv\", index=False)  # this will be overwritten if everything goes well"
   ]
  },
  {
   "cell_type": "code",
   "execution_count": 12,
   "metadata": {
    "execution": {
     "iopub.execute_input": "2020-09-08T20:42:00.385176Z",
     "iopub.status.busy": "2020-09-08T20:42:00.384294Z",
     "iopub.status.idle": "2020-09-08T20:42:00.393670Z",
     "shell.execute_reply": "2020-09-08T20:42:00.392932Z"
    },
    "papermill": {
     "duration": 0.036535,
     "end_time": "2020-09-08T20:42:00.393807",
     "exception": false,
     "start_time": "2020-09-08T20:42:00.357272",
     "status": "completed"
    },
    "tags": []
   },
   "outputs": [
    {
     "name": "stdout",
     "output_type": "stream",
     "text": [
      "count of audio:  24\n"
     ]
    }
   ],
   "source": [
    "DATASET_AUDIO_PATH = DATASET_SPEC\n",
    "dir_path = Path(DATASET_AUDIO_PATH)\n",
    "audio_paths = [\n",
    "    os.path.join(dir_path, filepath)\n",
    "    for filepath in os.listdir(dir_path)\n",
    "    if filepath.endswith(\".wav\")\n",
    "]\n",
    "len_audio_paths = len(audio_paths)\n",
    "print(\"count of audio: \", len_audio_paths)"
   ]
  },
  {
   "cell_type": "code",
   "execution_count": 18,
   "metadata": {
    "execution": {
     "iopub.execute_input": "2020-09-08T20:42:00.442808Z",
     "iopub.status.busy": "2020-09-08T20:42:00.441933Z",
     "iopub.status.idle": "2020-09-08T20:42:58.218866Z",
     "shell.execute_reply": "2020-09-08T20:42:58.218171Z"
    },
    "papermill": {
     "duration": 57.805717,
     "end_time": "2020-09-08T20:42:58.219010",
     "exception": false,
     "start_time": "2020-09-08T20:42:00.413293",
     "status": "completed"
    },
    "tags": []
   },
   "outputs": [
    {
     "data": {
      "text/plain": [
       "' for num_audio_path in np.arange(len_audio_paths):\\n    i+=1\\n    print(\"{}/{} processing:{} \".format(i,len_audio_paths, audio_paths[num_audio_path]))\\n    \\n    images, num_images, freqs, times = dataLoader(audio_paths[num_audio_path], \\n                                                  clip_length= 30, \\n                                                  displaySpectralPoint = True) '"
      ]
     },
     "execution_count": 18,
     "metadata": {},
     "output_type": "execute_result"
    }
   ],
   "source": [
    "# Visualize Spectrogram\n",
    "\n",
    "len_audio_paths = len(audio_paths)\n",
    "i=0\n",
    "demo_stim, demo_sr = librosa.load(audio_paths[0])\n",
    "\n",
    "oenv = librosa.onset.onset_strength(y=demo_stim, sr=demo_sr, hop_length=512)\n",
    "tempogram = librosa.feature.tempogram(onset_envelope=oenv, sr=demo_sr,\n",
    "                                      hop_length=512)\n",
    "\"\"\" for num_audio_path in np.arange(len_audio_paths):\n",
    "    i+=1\n",
    "    print(\"{}/{} processing:{} \".format(i,len_audio_paths, audio_paths[num_audio_path]))\n",
    "    \n",
    "    images, num_images, freqs, times = dataLoader(audio_paths[num_audio_path], \n",
    "                                                  clip_length= 30, \n",
    "                                                  displaySpectralPoint = True) \"\"\"\n",
    "    \n",
    "    "
   ]
  },
  {
   "cell_type": "code",
   "execution_count": 19,
   "metadata": {},
   "outputs": [
    {
     "data": {
      "image/png": "[encoded data removed]",
      "text/plain": [
       "<Figure size 1000x1000 with 2 Axes>"
      ]
     },
     "metadata": {},
     "output_type": "display_data"
    },
    {
     "name": "stdout",
     "output_type": "stream",
     "text": [
      "Matplotlib plt backend: module://matplotlib_inline.backend_inline\n"
     ]
    }
   ],
   "source": [
    "fig, ax = plt.subplots(nrows=2, figsize=(10, 10))\n",
    "times = librosa.times_like(oenv, sr=demo_sr, hop_length=512)\n",
    "ax[0].plot(times, oenv, label='Onset strength')\n",
    "ax[0].label_outer()\n",
    "ax[0].legend(frameon=True)\n",
    "librosa.display.specshow(tempogram, sr=demo_sr, hop_length=512,\n",
    "                         x_axis='time', y_axis='tempo', cmap='magma',\n",
    "                         ax=ax[1])\n",
    "ax[1].set(title='Tempogram')\n",
    "plt.show()\n",
    "print(\"Matplotlib plt backend: {}\".format(plt.get_backend()))"
   ]
  },
  {
   "cell_type": "markdown",
   "metadata": {
    "papermill": {
     "duration": 0.024529,
     "end_time": "2020-09-08T20:42:58.268954",
     "exception": false,
     "start_time": "2020-09-08T20:42:58.244425",
     "status": "completed"
    },
    "tags": []
   },
   "source": [
    "The 4min audio is much longer then the other audio in the birdcall dataset, so the current set of SED parameters is not fit for this long audio, but it seem good for the the short audios. For the private test datatset, the audio are all about 10 minutes long, so there is probably one set of SED parameters for the private test."
   ]
  },
  {
   "cell_type": "markdown",
   "metadata": {
    "papermill": {
     "duration": 0.024252,
     "end_time": "2020-09-08T20:42:58.318719",
     "exception": false,
     "start_time": "2020-09-08T20:42:58.294467",
     "status": "completed"
    },
    "tags": []
   },
   "source": [
    "# Composited data generator"
   ]
  },
  {
   "cell_type": "code",
   "execution_count": 28,
   "metadata": {
    "execution": {
     "iopub.execute_input": "2020-09-08T20:42:58.379699Z",
     "iopub.status.busy": "2020-09-08T20:42:58.378719Z",
     "iopub.status.idle": "2020-09-08T20:42:58.384588Z",
     "shell.execute_reply": "2020-09-08T20:42:58.383514Z"
    },
    "papermill": {
     "duration": 0.041268,
     "end_time": "2020-09-08T20:42:58.384770",
     "exception": false,
     "start_time": "2020-09-08T20:42:58.343502",
     "status": "completed"
    },
    "scrolled": false,
    "tags": []
   },
   "outputs": [
    {
     "name": "stdout",
     "output_type": "stream",
     "text": [
      "num_process:  2\n",
      "num_batch 3\n",
      "batch_size:  5\n",
      "total number of audio file:  15\n",
      "save to:  /kaggle/working/img_test/\n"
     ]
    }
   ],
   "source": [
    "num_process = 2\n",
    "batch_size = 5\n",
    "num_batch = math.ceil(len(audio_paths) / batch_size)\n",
    "print(\"num_process: \", num_process)\n",
    "print(\"num_batch\", num_batch)\n",
    "print(\"batch_size: \", batch_size)\n",
    "audio_paths_batches = [audio_paths[x: x + batch_size] for x in range(0, len(audio_paths), batch_size)]\n",
    "print(\"total number of audio file: \", len(audio_paths))\n",
    "save_dir = \"/kaggle/working/img_test/\"\n",
    "print(\"save to: \", save_dir)"
   ]
  },
  {
   "cell_type": "code",
   "execution_count": 29,
   "metadata": {
    "execution": {
     "iopub.execute_input": "2020-09-08T20:42:58.453152Z",
     "iopub.status.busy": "2020-09-08T20:42:58.452237Z",
     "iopub.status.idle": "2020-09-08T20:42:58.455908Z",
     "shell.execute_reply": "2020-09-08T20:42:58.456553Z"
    },
    "papermill": {
     "duration": 0.041689,
     "end_time": "2020-09-08T20:42:58.456722",
     "exception": false,
     "start_time": "2020-09-08T20:42:58.415033",
     "status": "completed"
    },
    "scrolled": true,
    "tags": []
   },
   "outputs": [],
   "source": [
    "def loadSave(audio_paths_batches, i, save_dir):\n",
    "    batch_size = len(audio_paths_batches)\n",
    "    print(\"processing batch: {} for audio #{} to #{}\".format(i, 0, batch_size ))\n",
    "    image_audio_paths, image_ds, freqs_ds, times_ds = paths_to_image(audio_paths_batches,\n",
    "                                                                     clip_length = 30,\n",
    "                                                                     i=i,\n",
    "                                                                     verbose = 0)\n",
    "    print(\"batch_{} is processed\".format(i))\n",
    "    time.sleep(0.2)\n",
    "    \n",
    "    print(\"saving to batch_{} to [{}]\".format(i,save_dir))\n",
    "    saveImage(image_audio_paths = image_audio_paths, \n",
    "                     image_ds = image_ds, \n",
    "                     freqs_ds = freqs_ds,\n",
    "                     times_ds = times_ds, \n",
    "                     save_dir = save_dir)\n",
    "    print(\"saving batch_{} successfully\".format(i))\n",
    "    time.sleep(0.2)\n",
    "    del image_ds, freqs_ds, times_ds\n",
    "    \n"
   ]
  },
  {
   "cell_type": "code",
   "execution_count": 30,
   "metadata": {
    "execution": {
     "iopub.execute_input": "2020-09-08T20:42:58.514275Z",
     "iopub.status.busy": "2020-09-08T20:42:58.513445Z",
     "iopub.status.idle": "2020-09-08T20:43:36.476587Z",
     "shell.execute_reply": "2020-09-08T20:43:36.477376Z"
    },
    "papermill": {
     "duration": 37.995318,
     "end_time": "2020-09-08T20:43:36.477549",
     "exception": false,
     "start_time": "2020-09-08T20:42:58.482231",
     "status": "completed"
    },
    "tags": []
   },
   "outputs": [
    {
     "name": "stdout",
     "output_type": "stream",
     "text": [
      "processing batch: 0 for audio #0 to #5\n",
      "batch_0 (1/5): processing /kaggle/input/birdcall-check/test_audio/f77783ba4c6641bc918b034a18c23e53.mp3\n",
      "batch_0 (2/5): processing /kaggle/input/birdcall-check/test_audio/99af324c881246949408c0b1ae54271f.mp3\n",
      "batch_0 (3/5): processing /kaggle/input/birdcall-check/test_audio/41e6fe6504a34bf6846938ba78d13df1.mp3\n",
      "batch_0 (4/5): processing /kaggle/input/birdcall-check/test_audio/899616723a32409c996f6f3441646c2a.mp3\n",
      "batch_0 (5/5): processing /kaggle/input/birdcall-check/test_audio/9cc5d9646f344f1bbb52640a988fe902.mp3\n",
      "Total sample: 165\n",
      "batch_0 is processed\n",
      "saving to batch_0 to [/kaggle/working/img_test/]\n",
      "saving batch_0 successfully\n",
      "processing batch: 1 for audio #0 to #5\n",
      "batch_1 (1/5): processing /kaggle/input/birdcall-check/test_audio/6ab74e177aa149468a39ca10beed6222.mp3\n",
      "batch_1 (2/5): processing /kaggle/input/birdcall-check/test_audio/856b194b097441958697c2bcd1f63982.mp3\n",
      "batch_1 (3/5): processing /kaggle/input/birdcall-check/test_audio/07ab324c602e4afab65ddbcc746c31b5.mp3\n",
      "batch_1 (4/5): processing /kaggle/input/birdcall-check/test_audio/940d546e5eb745c9a74bce3f35efa1f9.mp3\n",
      "batch_1 (5/5): processing /kaggle/input/birdcall-check/test_audio/cce64fffafed40f2b2f3d3413ec1c4c2.mp3\n",
      "Total sample: 44\n",
      "batch_1 is processed\n",
      "saving to batch_1 to [/kaggle/working/img_test/]\n",
      "saving batch_1 successfully\n",
      "processing batch: 2 for audio #0 to #5\n",
      "batch_2 (1/5): processing /kaggle/input/birdcall-check/test_audio/de62b37ebba749d2abf29d4a493ea5d4.mp3\n",
      "batch_2 (2/5): processing /kaggle/input/birdcall-check/test_audio/a56e20a518684688a9952add8a9d5213.mp3\n",
      "batch_2 (3/5): processing /kaggle/input/birdcall-check/test_audio/8680a8dd845d40f296246dbed0d37394.mp3\n",
      "batch_2 (4/5): processing /kaggle/input/birdcall-check/test_audio/b2fd3f01e9284293a1e33f9c811a2ed6.mp3\n",
      "batch_2 (5/5): processing /kaggle/input/birdcall-check/test_audio/96779836288745728306903d54e264dd.mp3\n",
      "Total sample: 51\n",
      "batch_2 is processed\n",
      "saving to batch_2 to [/kaggle/working/img_test/]\n",
      "saving batch_2 successfully\n"
     ]
    }
   ],
   "source": [
    "for i in range(num_batch):\n",
    "    loadSave(audio_paths_batches[i], i, save_dir)"
   ]
  },
  {
   "cell_type": "markdown",
   "metadata": {
    "papermill": {
     "duration": 0.026151,
     "end_time": "2020-09-08T20:43:36.529944",
     "exception": false,
     "start_time": "2020-09-08T20:43:36.503793",
     "status": "completed"
    },
    "tags": []
   },
   "source": [
    "# Prediction\n",
    "- the audio will be evaluate in a a clip with  3/4 overlap for high density detection. \n",
    "- make prediction on all sampling using local maximum window with a fixed threhold to target on the high power sound,\n",
    "- then assign the prediction to each signal "
   ]
  },
  {
   "cell_type": "code",
   "execution_count": 31,
   "metadata": {
    "execution": {
     "iopub.execute_input": "2020-09-08T20:43:36.591195Z",
     "iopub.status.busy": "2020-09-08T20:43:36.590261Z",
     "iopub.status.idle": "2020-09-08T20:43:36.593762Z",
     "shell.execute_reply": "2020-09-08T20:43:36.593123Z"
    },
    "papermill": {
     "duration": 0.03787,
     "end_time": "2020-09-08T20:43:36.593914",
     "exception": false,
     "start_time": "2020-09-08T20:43:36.556044",
     "status": "completed"
    },
    "tags": []
   },
   "outputs": [],
   "source": [
    "# load dataset and preprocess images（the preprocess function in map  can preprocess all previous pictures)\n",
    "def load_and_preprocess_image(img_path):\n",
    "    # read pictures\n",
    "    img_raw = tf.io.read_file(img_path)\n",
    "    # decode pictures\n",
    "    img_tensor = tf.image.decode_jpeg(img_raw, channels=1) # change channels to 3 result in 3-channel image\n",
    "    # resize\n",
    "#     img_tensor = tf.image.resize(img_tensor, [128, 128])\n",
    "    #tf.cast() function is a type conversion function that converts the data format of x into dtype\n",
    "    img_tensor = tf.cast(img_tensor, tf.float32)\n",
    "    # normalization\n",
    "    img_tensor = img_tensor / 255.0\n",
    "    # flip left or right\n",
    "#     img_tensor = tf.image.random_flip_left_right(img_tensor)\n",
    "    return img_tensor\n"
   ]
  },
  {
   "cell_type": "code",
   "execution_count": 32,
   "metadata": {
    "execution": {
     "iopub.execute_input": "2020-09-08T20:43:36.657134Z",
     "iopub.status.busy": "2020-09-08T20:43:36.656315Z",
     "iopub.status.idle": "2020-09-08T20:43:36.817358Z",
     "shell.execute_reply": "2020-09-08T20:43:36.816434Z"
    },
    "papermill": {
     "duration": 0.197235,
     "end_time": "2020-09-08T20:43:36.817521",
     "exception": false,
     "start_time": "2020-09-08T20:43:36.620286",
     "status": "completed"
    },
    "scrolled": false,
    "tags": []
   },
   "outputs": [
    {
     "name": "stdout",
     "output_type": "stream",
     "text": [
      "total test images:  230\n"
     ]
    }
   ],
   "source": [
    "# define valid path\n",
    "test_image_root = pathlib.Path(save_dir)\n",
    "test_image_path = test_image_root.rglob('*.jpg')\n",
    "test_image_path = [str(pathlib.Path(path)) for path in test_image_path]\n",
    "print(\"total test images: \", len(test_image_path))\n",
    "\n",
    "# get index of label and freq \n",
    "test_freq = [int(path.split('/')[-1].split('_')[1]) for path in test_image_path]\n",
    "encode_test_freq = [freq_dict.get(freq) for freq in test_freq]\n",
    "\n",
    "# convert to tensor and zip\n",
    "test_image_ds = tf.data.Dataset.from_tensor_slices(test_image_path).map(load_and_preprocess_image)\n",
    "test_freq_ds = tf.data.Dataset.from_tensor_slices(encode_test_freq)\n"
   ]
  },
  {
   "cell_type": "code",
   "execution_count": 33,
   "metadata": {
    "execution": {
     "iopub.execute_input": "2020-09-08T20:43:36.878767Z",
     "iopub.status.busy": "2020-09-08T20:43:36.877943Z",
     "iopub.status.idle": "2020-09-08T20:43:36.973422Z",
     "shell.execute_reply": "2020-09-08T20:43:36.972411Z"
    },
    "papermill": {
     "duration": 0.128971,
     "end_time": "2020-09-08T20:43:36.973616",
     "exception": false,
     "start_time": "2020-09-08T20:43:36.844645",
     "status": "completed"
    },
    "tags": []
   },
   "outputs": [],
   "source": [
    "batch_size = 128\n",
    "test_ds = tf.data.Dataset.zip(((test_image_ds, test_freq_ds), )).batch(batch_size)\n",
    "iteration_test = iter(test_ds)"
   ]
  },
  {
   "cell_type": "code",
   "execution_count": 34,
   "metadata": {
    "execution": {
     "iopub.execute_input": "2020-09-08T20:43:37.056432Z",
     "iopub.status.busy": "2020-09-08T20:43:37.055164Z",
     "iopub.status.idle": "2020-09-08T20:44:05.710150Z",
     "shell.execute_reply": "2020-09-08T20:44:05.709488Z"
    },
    "papermill": {
     "duration": 28.707738,
     "end_time": "2020-09-08T20:44:05.710294",
     "exception": false,
     "start_time": "2020-09-08T20:43:37.002556",
     "status": "completed"
    },
    "scrolled": true,
    "tags": []
   },
   "outputs": [],
   "source": [
    "audio_id = [path.split('/')[-1].split('_')[0] for path in test_image_path]\n",
    "raw_seconds = [int(path.split('/')[-1].split('_')[2].split('.')[0])/10 for path in test_image_path]\n",
    "seconds = [5 * math.ceil(s/5) for s in raw_seconds]\n",
    "\n",
    "result_pred_class = []\n",
    "result_pred_class_prob = []\n",
    "for i in range(0, len(test_image_path), batch_size):\n",
    "    pred_prob = model.predict(iteration_test.get_next())\n",
    "    pred_class_prob = np.amax(pred_prob, 1)\n",
    "    pred_class_integer = np.argmax(pred_prob, 1)\n",
    "    pred_class = [list(label_dict)[i] for i in pred_class_integer]\n",
    "    result_pred_class += pred_class\n",
    "    result_pred_class_prob += list(pred_class_prob)\n",
    "    \n",
    "result_raw = pd.DataFrame(data= {'audio_id': audio_id,\n",
    "                             'raw_seconds': raw_seconds, \n",
    "                             'seconds': seconds, \n",
    "                             'freq': test_freq, \n",
    "                             'birds': result_pred_class,\n",
    "                             'pred_class_prob': result_pred_class_prob}).sort_values(by = ['audio_id', 'raw_seconds'])"
   ]
  },
  {
   "cell_type": "code",
   "execution_count": 35,
   "metadata": {
    "execution": {
     "iopub.execute_input": "2020-09-08T20:44:05.770228Z",
     "iopub.status.busy": "2020-09-08T20:44:05.769438Z",
     "iopub.status.idle": "2020-09-08T20:44:06.023580Z",
     "shell.execute_reply": "2020-09-08T20:44:06.022800Z"
    },
    "papermill": {
     "duration": 0.28679,
     "end_time": "2020-09-08T20:44:06.023707",
     "exception": false,
     "start_time": "2020-09-08T20:44:05.736917",
     "status": "completed"
    },
    "tags": []
   },
   "outputs": [
    {
     "data": {
      "text/html": [
       "<div>\n",
       "<style scoped>\n",
       "    .dataframe tbody tr th:only-of-type {\n",
       "        vertical-align: middle;\n",
       "    }\n",
       "\n",
       "    .dataframe tbody tr th {\n",
       "        vertical-align: top;\n",
       "    }\n",
       "\n",
       "    .dataframe thead th {\n",
       "        text-align: right;\n",
       "    }\n",
       "</style>\n",
       "<table border=\"1\" class=\"dataframe\">\n",
       "  <thead>\n",
       "    <tr style=\"text-align: right;\">\n",
       "      <th></th>\n",
       "      <th>audio_id</th>\n",
       "      <th>raw_seconds</th>\n",
       "      <th>seconds</th>\n",
       "      <th>freq</th>\n",
       "      <th>birds</th>\n",
       "      <th>pred_class_prob</th>\n",
       "    </tr>\n",
       "  </thead>\n",
       "  <tbody>\n",
       "    <tr>\n",
       "      <th>191</th>\n",
       "      <td>07ab324c602e4afab65ddbcc746c31b5</td>\n",
       "      <td>2.2</td>\n",
       "      <td>5</td>\n",
       "      <td>284</td>\n",
       "      <td>aldfly</td>\n",
       "      <td>0.858805</td>\n",
       "    </tr>\n",
       "    <tr>\n",
       "      <th>37</th>\n",
       "      <td>07ab324c602e4afab65ddbcc746c31b5</td>\n",
       "      <td>2.4</td>\n",
       "      <td>5</td>\n",
       "      <td>275</td>\n",
       "      <td>aldfly</td>\n",
       "      <td>0.989658</td>\n",
       "    </tr>\n",
       "    <tr>\n",
       "      <th>70</th>\n",
       "      <td>6ab74e177aa149468a39ca10beed6222</td>\n",
       "      <td>25.8</td>\n",
       "      <td>30</td>\n",
       "      <td>267</td>\n",
       "      <td>saypho</td>\n",
       "      <td>0.850398</td>\n",
       "    </tr>\n",
       "    <tr>\n",
       "      <th>100</th>\n",
       "      <td>6ab74e177aa149468a39ca10beed6222</td>\n",
       "      <td>27.1</td>\n",
       "      <td>30</td>\n",
       "      <td>175</td>\n",
       "      <td>saypho</td>\n",
       "      <td>0.857590</td>\n",
       "    </tr>\n",
       "    <tr>\n",
       "      <th>193</th>\n",
       "      <td>6ab74e177aa149468a39ca10beed6222</td>\n",
       "      <td>30.2</td>\n",
       "      <td>35</td>\n",
       "      <td>175</td>\n",
       "      <td>saypho</td>\n",
       "      <td>0.931782</td>\n",
       "    </tr>\n",
       "    <tr>\n",
       "      <th>...</th>\n",
       "      <td>...</td>\n",
       "      <td>...</td>\n",
       "      <td>...</td>\n",
       "      <td>...</td>\n",
       "      <td>...</td>\n",
       "      <td>...</td>\n",
       "    </tr>\n",
       "    <tr>\n",
       "      <th>87</th>\n",
       "      <td>a56e20a518684688a9952add8a9d5213</td>\n",
       "      <td>17.7</td>\n",
       "      <td>20</td>\n",
       "      <td>227</td>\n",
       "      <td>aldfly</td>\n",
       "      <td>0.980576</td>\n",
       "    </tr>\n",
       "    <tr>\n",
       "      <th>62</th>\n",
       "      <td>cce64fffafed40f2b2f3d3413ec1c4c2</td>\n",
       "      <td>24.2</td>\n",
       "      <td>25</td>\n",
       "      <td>234</td>\n",
       "      <td>pygnut</td>\n",
       "      <td>0.896989</td>\n",
       "    </tr>\n",
       "    <tr>\n",
       "      <th>196</th>\n",
       "      <td>cce64fffafed40f2b2f3d3413ec1c4c2</td>\n",
       "      <td>24.6</td>\n",
       "      <td>25</td>\n",
       "      <td>199</td>\n",
       "      <td>astfly</td>\n",
       "      <td>0.883114</td>\n",
       "    </tr>\n",
       "    <tr>\n",
       "      <th>210</th>\n",
       "      <td>de62b37ebba749d2abf29d4a493ea5d4</td>\n",
       "      <td>6.4</td>\n",
       "      <td>10</td>\n",
       "      <td>212</td>\n",
       "      <td>astfly</td>\n",
       "      <td>0.986449</td>\n",
       "    </tr>\n",
       "    <tr>\n",
       "      <th>140</th>\n",
       "      <td>f77783ba4c6641bc918b034a18c23e53</td>\n",
       "      <td>1.0</td>\n",
       "      <td>5</td>\n",
       "      <td>250</td>\n",
       "      <td>yebfly</td>\n",
       "      <td>0.801383</td>\n",
       "    </tr>\n",
       "  </tbody>\n",
       "</table>\n",
       "<p>127 rows × 6 columns</p>\n",
       "</div>"
      ],
      "text/plain": [
       "                             audio_id  raw_seconds  seconds  freq   birds  \\\n",
       "191  07ab324c602e4afab65ddbcc746c31b5          2.2        5   284  aldfly   \n",
       "37   07ab324c602e4afab65ddbcc746c31b5          2.4        5   275  aldfly   \n",
       "70   6ab74e177aa149468a39ca10beed6222         25.8       30   267  saypho   \n",
       "100  6ab74e177aa149468a39ca10beed6222         27.1       30   175  saypho   \n",
       "193  6ab74e177aa149468a39ca10beed6222         30.2       35   175  saypho   \n",
       "..                                ...          ...      ...   ...     ...   \n",
       "87   a56e20a518684688a9952add8a9d5213         17.7       20   227  aldfly   \n",
       "62   cce64fffafed40f2b2f3d3413ec1c4c2         24.2       25   234  pygnut   \n",
       "196  cce64fffafed40f2b2f3d3413ec1c4c2         24.6       25   199  astfly   \n",
       "210  de62b37ebba749d2abf29d4a493ea5d4          6.4       10   212  astfly   \n",
       "140  f77783ba4c6641bc918b034a18c23e53          1.0        5   250  yebfly   \n",
       "\n",
       "     pred_class_prob  \n",
       "191         0.858805  \n",
       "37          0.989658  \n",
       "70          0.850398  \n",
       "100         0.857590  \n",
       "193         0.931782  \n",
       "..               ...  \n",
       "87          0.980576  \n",
       "62          0.896989  \n",
       "196         0.883114  \n",
       "210         0.986449  \n",
       "140         0.801383  \n",
       "\n",
       "[127 rows x 6 columns]"
      ]
     },
     "execution_count": 35,
     "metadata": {},
     "output_type": "execute_result"
    },
    {
     "data": {
      "image/png": "[encoded data removed]",
      "text/plain": [
       "<Figure size 432x288 with 1 Axes>"
      ]
     },
     "metadata": {
      "needs_background": "light"
     },
     "output_type": "display_data"
    }
   ],
   "source": [
    "threshold = 0.8\n",
    "result = result_raw[result_raw['pred_class_prob'] > threshold]\n",
    "sns.distplot(result['pred_class_prob'])\n",
    "result"
   ]
  },
  {
   "cell_type": "markdown",
   "metadata": {
    "papermill": {
     "duration": 0.026705,
     "end_time": "2020-09-08T20:44:06.077677",
     "exception": false,
     "start_time": "2020-09-08T20:44:06.050972",
     "status": "completed"
    },
    "tags": []
   },
   "source": [
    "##  Site 1 & 2\n",
    "- each signal will be aggregate to the 5 seconds time frame,\n",
    "- the final prediction are determined by the weighted probablity of each bird prediction within each 5s clip. hopefully this will combine the effect of count of signal and the confident of each signal  \n"
   ]
  },
  {
   "cell_type": "code",
   "execution_count": 36,
   "metadata": {
    "execution": {
     "iopub.execute_input": "2020-09-08T20:44:06.139466Z",
     "iopub.status.busy": "2020-09-08T20:44:06.138591Z",
     "iopub.status.idle": "2020-09-08T20:44:06.142304Z",
     "shell.execute_reply": "2020-09-08T20:44:06.141549Z"
    },
    "papermill": {
     "duration": 0.037454,
     "end_time": "2020-09-08T20:44:06.142454",
     "exception": false,
     "start_time": "2020-09-08T20:44:06.105000",
     "status": "completed"
    },
    "tags": []
   },
   "outputs": [],
   "source": [
    "def appandLabel(x):\n",
    "    x = list(x)\n",
    "    separator = ' '\n",
    "    x = separator.join(x)\n",
    "    return x"
   ]
  },
  {
   "cell_type": "code",
   "execution_count": 37,
   "metadata": {
    "execution": {
     "iopub.execute_input": "2020-09-08T20:44:06.227249Z",
     "iopub.status.busy": "2020-09-08T20:44:06.211620Z",
     "iopub.status.idle": "2020-09-08T20:44:06.245407Z",
     "shell.execute_reply": "2020-09-08T20:44:06.244619Z"
    },
    "papermill": {
     "duration": 0.07597,
     "end_time": "2020-09-08T20:44:06.245542",
     "exception": false,
     "start_time": "2020-09-08T20:44:06.169572",
     "status": "completed"
    },
    "tags": []
   },
   "outputs": [
    {
     "data": {
      "text/html": [
       "<div>\n",
       "<style scoped>\n",
       "    .dataframe tbody tr th:only-of-type {\n",
       "        vertical-align: middle;\n",
       "    }\n",
       "\n",
       "    .dataframe tbody tr th {\n",
       "        vertical-align: top;\n",
       "    }\n",
       "\n",
       "    .dataframe thead th {\n",
       "        text-align: right;\n",
       "    }\n",
       "</style>\n",
       "<table border=\"1\" class=\"dataframe\">\n",
       "  <thead>\n",
       "    <tr style=\"text-align: right;\">\n",
       "      <th></th>\n",
       "      <th>row_id</th>\n",
       "      <th>birds</th>\n",
       "    </tr>\n",
       "  </thead>\n",
       "  <tbody>\n",
       "    <tr>\n",
       "      <th>0</th>\n",
       "      <td>site_1_6ab74e177aa149468a39ca10beed6222_30</td>\n",
       "      <td>saypho</td>\n",
       "    </tr>\n",
       "    <tr>\n",
       "      <th>1</th>\n",
       "      <td>site_1_99af324c881246949408c0b1ae54271f_15</td>\n",
       "      <td>pygnut</td>\n",
       "    </tr>\n",
       "    <tr>\n",
       "      <th>2</th>\n",
       "      <td>site_2_07ab324c602e4afab65ddbcc746c31b5_5</td>\n",
       "      <td>aldfly</td>\n",
       "    </tr>\n",
       "    <tr>\n",
       "      <th>3</th>\n",
       "      <td>site_2_8680a8dd845d40f296246dbed0d37394_15</td>\n",
       "      <td>pygnut</td>\n",
       "    </tr>\n",
       "    <tr>\n",
       "      <th>4</th>\n",
       "      <td>site_2_8680a8dd845d40f296246dbed0d37394_35</td>\n",
       "      <td>aldfly</td>\n",
       "    </tr>\n",
       "  </tbody>\n",
       "</table>\n",
       "</div>"
      ],
      "text/plain": [
       "                                       row_id   birds\n",
       "0  site_1_6ab74e177aa149468a39ca10beed6222_30  saypho\n",
       "1  site_1_99af324c881246949408c0b1ae54271f_15  pygnut\n",
       "2   site_2_07ab324c602e4afab65ddbcc746c31b5_5  aldfly\n",
       "3  site_2_8680a8dd845d40f296246dbed0d37394_15  pygnut\n",
       "4  site_2_8680a8dd845d40f296246dbed0d37394_35  aldfly"
      ]
     },
     "execution_count": 37,
     "metadata": {},
     "output_type": "execute_result"
    }
   ],
   "source": [
    "sub_test_12 = test_df[test_df.site.isin(['site_1', 'site_2'])]\n",
    "sub_test_12 = sub_test_12.merge(result, on = ['audio_id','seconds'], how ='left')\n",
    "sub_test_12 = sub_test_12[['row_id','birds','pred_class_prob']].groupby(['row_id','birds'])['pred_class_prob'].sum().reset_index()\n",
    "sub_test_12 = sub_test_12[sub_test_12['pred_class_prob'] > 1]\n",
    "sub_test_12 = sub_test_12[['row_id','birds']].drop_duplicates().groupby(['row_id'])['birds'].apply(appandLabel).reset_index()\n",
    "sub_test_12.head(25)"
   ]
  },
  {
   "cell_type": "markdown",
   "metadata": {
    "papermill": {
     "duration": 0.026757,
     "end_time": "2020-09-08T20:44:06.299457",
     "exception": false,
     "start_time": "2020-09-08T20:44:06.272700",
     "status": "completed"
    },
    "tags": []
   },
   "source": [
    "## site 3\n",
    "- sum pred_class_prob by group of 'row_id','birds'\n",
    "- remove the sum prob less than 15"
   ]
  },
  {
   "cell_type": "code",
   "execution_count": 38,
   "metadata": {
    "execution": {
     "iopub.execute_input": "2020-09-08T20:44:06.373026Z",
     "iopub.status.busy": "2020-09-08T20:44:06.372173Z",
     "iopub.status.idle": "2020-09-08T20:44:06.394426Z",
     "shell.execute_reply": "2020-09-08T20:44:06.393637Z"
    },
    "papermill": {
     "duration": 0.067797,
     "end_time": "2020-09-08T20:44:06.394614",
     "exception": false,
     "start_time": "2020-09-08T20:44:06.326817",
     "status": "completed"
    },
    "tags": []
   },
   "outputs": [
    {
     "data": {
      "text/html": [
       "<div>\n",
       "<style scoped>\n",
       "    .dataframe tbody tr th:only-of-type {\n",
       "        vertical-align: middle;\n",
       "    }\n",
       "\n",
       "    .dataframe tbody tr th {\n",
       "        vertical-align: top;\n",
       "    }\n",
       "\n",
       "    .dataframe thead th {\n",
       "        text-align: right;\n",
       "    }\n",
       "</style>\n",
       "<table border=\"1\" class=\"dataframe\">\n",
       "  <thead>\n",
       "    <tr style=\"text-align: right;\">\n",
       "      <th></th>\n",
       "      <th>row_id</th>\n",
       "      <th>birds</th>\n",
       "    </tr>\n",
       "  </thead>\n",
       "  <tbody>\n",
       "    <tr>\n",
       "      <th>0</th>\n",
       "      <td>site_3_9cc5d9646f344f1bbb52640a988fe902</td>\n",
       "      <td>aldfly</td>\n",
       "    </tr>\n",
       "  </tbody>\n",
       "</table>\n",
       "</div>"
      ],
      "text/plain": [
       "                                    row_id   birds\n",
       "0  site_3_9cc5d9646f344f1bbb52640a988fe902  aldfly"
      ]
     },
     "execution_count": 38,
     "metadata": {},
     "output_type": "execute_result"
    }
   ],
   "source": [
    "sub_test_3 = test_df[test_df.site.isin(['site_3'])]\n",
    "sub_test_3 = sub_test_3[['row_id', 'audio_id']].merge(result[['audio_id','birds','pred_class_prob']], on=['audio_id'], how='left')\n",
    "sub_test_3 = sub_test_3[['row_id','birds','pred_class_prob']].groupby(['row_id','birds'])['pred_class_prob'].sum().reset_index()\n",
    "sub_test_3 = sub_test_3[sub_test_3['pred_class_prob'] > 15]\n",
    "sub_test_3 = sub_test_3[['row_id','birds']].drop_duplicates().groupby(['row_id'])['birds'].apply(appandLabel).reset_index()\n",
    "sub_test_3.head(25)"
   ]
  },
  {
   "cell_type": "markdown",
   "metadata": {
    "papermill": {
     "duration": 0.028015,
     "end_time": "2020-09-08T20:44:06.451472",
     "exception": false,
     "start_time": "2020-09-08T20:44:06.423457",
     "status": "completed"
    },
    "tags": []
   },
   "source": [
    "## submission"
   ]
  },
  {
   "cell_type": "code",
   "execution_count": 39,
   "metadata": {
    "execution": {
     "iopub.execute_input": "2020-09-08T20:44:06.513713Z",
     "iopub.status.busy": "2020-09-08T20:44:06.512960Z",
     "iopub.status.idle": "2020-09-08T20:44:06.524703Z",
     "shell.execute_reply": "2020-09-08T20:44:06.523873Z"
    },
    "papermill": {
     "duration": 0.045291,
     "end_time": "2020-09-08T20:44:06.524856",
     "exception": false,
     "start_time": "2020-09-08T20:44:06.479565",
     "status": "completed"
    },
    "tags": []
   },
   "outputs": [],
   "source": [
    "try:\n",
    "    shutil.rmtree(save_dir)\n",
    "except:\n",
    "    pass"
   ]
  },
  {
   "cell_type": "code",
   "execution_count": 40,
   "metadata": {
    "execution": {
     "iopub.execute_input": "2020-09-08T20:44:06.597879Z",
     "iopub.status.busy": "2020-09-08T20:44:06.597087Z",
     "iopub.status.idle": "2020-09-08T20:44:06.617134Z",
     "shell.execute_reply": "2020-09-08T20:44:06.616372Z"
    },
    "papermill": {
     "duration": 0.063949,
     "end_time": "2020-09-08T20:44:06.617259",
     "exception": false,
     "start_time": "2020-09-08T20:44:06.553310",
     "status": "completed"
    },
    "tags": []
   },
   "outputs": [
    {
     "data": {
      "text/html": [
       "<div>\n",
       "<style scoped>\n",
       "    .dataframe tbody tr th:only-of-type {\n",
       "        vertical-align: middle;\n",
       "    }\n",
       "\n",
       "    .dataframe tbody tr th {\n",
       "        vertical-align: top;\n",
       "    }\n",
       "\n",
       "    .dataframe thead th {\n",
       "        text-align: right;\n",
       "    }\n",
       "</style>\n",
       "<table border=\"1\" class=\"dataframe\">\n",
       "  <thead>\n",
       "    <tr style=\"text-align: right;\">\n",
       "      <th></th>\n",
       "      <th>row_id</th>\n",
       "      <th>birds</th>\n",
       "    </tr>\n",
       "  </thead>\n",
       "  <tbody>\n",
       "    <tr>\n",
       "      <th>45</th>\n",
       "      <td>site_2_940d546e5eb745c9a74bce3f35efa1f9_20</td>\n",
       "      <td>nocall</td>\n",
       "    </tr>\n",
       "    <tr>\n",
       "      <th>41</th>\n",
       "      <td>site_2_8680a8dd845d40f296246dbed0d37394_45</td>\n",
       "      <td>nocall</td>\n",
       "    </tr>\n",
       "    <tr>\n",
       "      <th>51</th>\n",
       "      <td>site_2_940d546e5eb745c9a74bce3f35efa1f9_50</td>\n",
       "      <td>nocall</td>\n",
       "    </tr>\n",
       "    <tr>\n",
       "      <th>60</th>\n",
       "      <td>site_2_07ab324c602e4afab65ddbcc746c31b5_25</td>\n",
       "      <td>nocall</td>\n",
       "    </tr>\n",
       "    <tr>\n",
       "      <th>7</th>\n",
       "      <td>site_1_cce64fffafed40f2b2f3d3413ec1c4c2_15</td>\n",
       "      <td>nocall</td>\n",
       "    </tr>\n",
       "    <tr>\n",
       "      <th>4</th>\n",
       "      <td>site_1_41e6fe6504a34bf6846938ba78d13df1_25</td>\n",
       "      <td>nocall</td>\n",
       "    </tr>\n",
       "    <tr>\n",
       "      <th>35</th>\n",
       "      <td>site_2_8680a8dd845d40f296246dbed0d37394_15</td>\n",
       "      <td>pygnut</td>\n",
       "    </tr>\n",
       "    <tr>\n",
       "      <th>74</th>\n",
       "      <td>site_3_f77783ba4c6641bc918b034a18c23e53</td>\n",
       "      <td>nocall</td>\n",
       "    </tr>\n",
       "    <tr>\n",
       "      <th>66</th>\n",
       "      <td>site_2_899616723a32409c996f6f3441646c2a_30</td>\n",
       "      <td>nocall</td>\n",
       "    </tr>\n",
       "    <tr>\n",
       "      <th>6</th>\n",
       "      <td>site_1_cce64fffafed40f2b2f3d3413ec1c4c2_10</td>\n",
       "      <td>nocall</td>\n",
       "    </tr>\n",
       "    <tr>\n",
       "      <th>34</th>\n",
       "      <td>site_2_8680a8dd845d40f296246dbed0d37394_10</td>\n",
       "      <td>nocall</td>\n",
       "    </tr>\n",
       "    <tr>\n",
       "      <th>70</th>\n",
       "      <td>site_2_899616723a32409c996f6f3441646c2a_50</td>\n",
       "      <td>nocall</td>\n",
       "    </tr>\n",
       "    <tr>\n",
       "      <th>71</th>\n",
       "      <td>site_3_9cc5d9646f344f1bbb52640a988fe902</td>\n",
       "      <td>aldfly</td>\n",
       "    </tr>\n",
       "    <tr>\n",
       "      <th>57</th>\n",
       "      <td>site_2_07ab324c602e4afab65ddbcc746c31b5_10</td>\n",
       "      <td>nocall</td>\n",
       "    </tr>\n",
       "    <tr>\n",
       "      <th>62</th>\n",
       "      <td>site_2_899616723a32409c996f6f3441646c2a_10</td>\n",
       "      <td>nocall</td>\n",
       "    </tr>\n",
       "    <tr>\n",
       "      <th>63</th>\n",
       "      <td>site_2_899616723a32409c996f6f3441646c2a_15</td>\n",
       "      <td>nocall</td>\n",
       "    </tr>\n",
       "    <tr>\n",
       "      <th>46</th>\n",
       "      <td>site_2_940d546e5eb745c9a74bce3f35efa1f9_25</td>\n",
       "      <td>nocall</td>\n",
       "    </tr>\n",
       "    <tr>\n",
       "      <th>16</th>\n",
       "      <td>site_1_99af324c881246949408c0b1ae54271f_25</td>\n",
       "      <td>nocall</td>\n",
       "    </tr>\n",
       "    <tr>\n",
       "      <th>17</th>\n",
       "      <td>site_1_99af324c881246949408c0b1ae54271f_30</td>\n",
       "      <td>nocall</td>\n",
       "    </tr>\n",
       "    <tr>\n",
       "      <th>27</th>\n",
       "      <td>site_1_b2fd3f01e9284293a1e33f9c811a2ed6_15</td>\n",
       "      <td>nocall</td>\n",
       "    </tr>\n",
       "    <tr>\n",
       "      <th>48</th>\n",
       "      <td>site_2_940d546e5eb745c9a74bce3f35efa1f9_35</td>\n",
       "      <td>nocall</td>\n",
       "    </tr>\n",
       "    <tr>\n",
       "      <th>26</th>\n",
       "      <td>site_1_b2fd3f01e9284293a1e33f9c811a2ed6_10</td>\n",
       "      <td>nocall</td>\n",
       "    </tr>\n",
       "    <tr>\n",
       "      <th>50</th>\n",
       "      <td>site_2_940d546e5eb745c9a74bce3f35efa1f9_45</td>\n",
       "      <td>nocall</td>\n",
       "    </tr>\n",
       "    <tr>\n",
       "      <th>20</th>\n",
       "      <td>site_1_6ab74e177aa149468a39ca10beed6222_10</td>\n",
       "      <td>nocall</td>\n",
       "    </tr>\n",
       "    <tr>\n",
       "      <th>14</th>\n",
       "      <td>site_1_99af324c881246949408c0b1ae54271f_15</td>\n",
       "      <td>pygnut</td>\n",
       "    </tr>\n",
       "    <tr>\n",
       "      <th>21</th>\n",
       "      <td>site_1_6ab74e177aa149468a39ca10beed6222_15</td>\n",
       "      <td>nocall</td>\n",
       "    </tr>\n",
       "    <tr>\n",
       "      <th>44</th>\n",
       "      <td>site_2_940d546e5eb745c9a74bce3f35efa1f9_15</td>\n",
       "      <td>nocall</td>\n",
       "    </tr>\n",
       "    <tr>\n",
       "      <th>37</th>\n",
       "      <td>site_2_8680a8dd845d40f296246dbed0d37394_25</td>\n",
       "      <td>nocall</td>\n",
       "    </tr>\n",
       "    <tr>\n",
       "      <th>56</th>\n",
       "      <td>site_2_07ab324c602e4afab65ddbcc746c31b5_5</td>\n",
       "      <td>aldfly</td>\n",
       "    </tr>\n",
       "    <tr>\n",
       "      <th>12</th>\n",
       "      <td>site_1_99af324c881246949408c0b1ae54271f_5</td>\n",
       "      <td>nocall</td>\n",
       "    </tr>\n",
       "    <tr>\n",
       "      <th>52</th>\n",
       "      <td>site_2_940d546e5eb745c9a74bce3f35efa1f9_55</td>\n",
       "      <td>nocall</td>\n",
       "    </tr>\n",
       "    <tr>\n",
       "      <th>40</th>\n",
       "      <td>site_2_8680a8dd845d40f296246dbed0d37394_40</td>\n",
       "      <td>nocall</td>\n",
       "    </tr>\n",
       "    <tr>\n",
       "      <th>24</th>\n",
       "      <td>site_1_6ab74e177aa149468a39ca10beed6222_30</td>\n",
       "      <td>saypho</td>\n",
       "    </tr>\n",
       "    <tr>\n",
       "      <th>75</th>\n",
       "      <td>site_3_856b194b097441958697c2bcd1f63982</td>\n",
       "      <td>nocall</td>\n",
       "    </tr>\n",
       "    <tr>\n",
       "      <th>22</th>\n",
       "      <td>site_1_6ab74e177aa149468a39ca10beed6222_20</td>\n",
       "      <td>nocall</td>\n",
       "    </tr>\n",
       "    <tr>\n",
       "      <th>5</th>\n",
       "      <td>site_1_cce64fffafed40f2b2f3d3413ec1c4c2_5</td>\n",
       "      <td>nocall</td>\n",
       "    </tr>\n",
       "    <tr>\n",
       "      <th>13</th>\n",
       "      <td>site_1_99af324c881246949408c0b1ae54271f_10</td>\n",
       "      <td>nocall</td>\n",
       "    </tr>\n",
       "    <tr>\n",
       "      <th>3</th>\n",
       "      <td>site_1_41e6fe6504a34bf6846938ba78d13df1_20</td>\n",
       "      <td>nocall</td>\n",
       "    </tr>\n",
       "    <tr>\n",
       "      <th>10</th>\n",
       "      <td>site_1_cce64fffafed40f2b2f3d3413ec1c4c2_30</td>\n",
       "      <td>nocall</td>\n",
       "    </tr>\n",
       "    <tr>\n",
       "      <th>54</th>\n",
       "      <td>site_2_940d546e5eb745c9a74bce3f35efa1f9_65</td>\n",
       "      <td>nocall</td>\n",
       "    </tr>\n",
       "    <tr>\n",
       "      <th>39</th>\n",
       "      <td>site_2_8680a8dd845d40f296246dbed0d37394_35</td>\n",
       "      <td>aldfly</td>\n",
       "    </tr>\n",
       "    <tr>\n",
       "      <th>30</th>\n",
       "      <td>site_1_b2fd3f01e9284293a1e33f9c811a2ed6_30</td>\n",
       "      <td>nocall</td>\n",
       "    </tr>\n",
       "    <tr>\n",
       "      <th>23</th>\n",
       "      <td>site_1_6ab74e177aa149468a39ca10beed6222_25</td>\n",
       "      <td>nocall</td>\n",
       "    </tr>\n",
       "    <tr>\n",
       "      <th>8</th>\n",
       "      <td>site_1_cce64fffafed40f2b2f3d3413ec1c4c2_20</td>\n",
       "      <td>nocall</td>\n",
       "    </tr>\n",
       "    <tr>\n",
       "      <th>2</th>\n",
       "      <td>site_1_41e6fe6504a34bf6846938ba78d13df1_15</td>\n",
       "      <td>nocall</td>\n",
       "    </tr>\n",
       "    <tr>\n",
       "      <th>9</th>\n",
       "      <td>site_1_cce64fffafed40f2b2f3d3413ec1c4c2_25</td>\n",
       "      <td>nocall</td>\n",
       "    </tr>\n",
       "    <tr>\n",
       "      <th>19</th>\n",
       "      <td>site_1_6ab74e177aa149468a39ca10beed6222_5</td>\n",
       "      <td>nocall</td>\n",
       "    </tr>\n",
       "    <tr>\n",
       "      <th>0</th>\n",
       "      <td>site_1_41e6fe6504a34bf6846938ba78d13df1_5</td>\n",
       "      <td>nocall</td>\n",
       "    </tr>\n",
       "    <tr>\n",
       "      <th>58</th>\n",
       "      <td>site_2_07ab324c602e4afab65ddbcc746c31b5_15</td>\n",
       "      <td>nocall</td>\n",
       "    </tr>\n",
       "    <tr>\n",
       "      <th>11</th>\n",
       "      <td>site_1_cce64fffafed40f2b2f3d3413ec1c4c2_35</td>\n",
       "      <td>nocall</td>\n",
       "    </tr>\n",
       "  </tbody>\n",
       "</table>\n",
       "</div>"
      ],
      "text/plain": [
       "                                        row_id   birds\n",
       "45  site_2_940d546e5eb745c9a74bce3f35efa1f9_20  nocall\n",
       "41  site_2_8680a8dd845d40f296246dbed0d37394_45  nocall\n",
       "51  site_2_940d546e5eb745c9a74bce3f35efa1f9_50  nocall\n",
       "60  site_2_07ab324c602e4afab65ddbcc746c31b5_25  nocall\n",
       "7   site_1_cce64fffafed40f2b2f3d3413ec1c4c2_15  nocall\n",
       "4   site_1_41e6fe6504a34bf6846938ba78d13df1_25  nocall\n",
       "35  site_2_8680a8dd845d40f296246dbed0d37394_15  pygnut\n",
       "74     site_3_f77783ba4c6641bc918b034a18c23e53  nocall\n",
       "66  site_2_899616723a32409c996f6f3441646c2a_30  nocall\n",
       "6   site_1_cce64fffafed40f2b2f3d3413ec1c4c2_10  nocall\n",
       "34  site_2_8680a8dd845d40f296246dbed0d37394_10  nocall\n",
       "70  site_2_899616723a32409c996f6f3441646c2a_50  nocall\n",
       "71     site_3_9cc5d9646f344f1bbb52640a988fe902  aldfly\n",
       "57  site_2_07ab324c602e4afab65ddbcc746c31b5_10  nocall\n",
       "62  site_2_899616723a32409c996f6f3441646c2a_10  nocall\n",
       "63  site_2_899616723a32409c996f6f3441646c2a_15  nocall\n",
       "46  site_2_940d546e5eb745c9a74bce3f35efa1f9_25  nocall\n",
       "16  site_1_99af324c881246949408c0b1ae54271f_25  nocall\n",
       "17  site_1_99af324c881246949408c0b1ae54271f_30  nocall\n",
       "27  site_1_b2fd3f01e9284293a1e33f9c811a2ed6_15  nocall\n",
       "48  site_2_940d546e5eb745c9a74bce3f35efa1f9_35  nocall\n",
       "26  site_1_b2fd3f01e9284293a1e33f9c811a2ed6_10  nocall\n",
       "50  site_2_940d546e5eb745c9a74bce3f35efa1f9_45  nocall\n",
       "20  site_1_6ab74e177aa149468a39ca10beed6222_10  nocall\n",
       "14  site_1_99af324c881246949408c0b1ae54271f_15  pygnut\n",
       "21  site_1_6ab74e177aa149468a39ca10beed6222_15  nocall\n",
       "44  site_2_940d546e5eb745c9a74bce3f35efa1f9_15  nocall\n",
       "37  site_2_8680a8dd845d40f296246dbed0d37394_25  nocall\n",
       "56   site_2_07ab324c602e4afab65ddbcc746c31b5_5  aldfly\n",
       "12   site_1_99af324c881246949408c0b1ae54271f_5  nocall\n",
       "52  site_2_940d546e5eb745c9a74bce3f35efa1f9_55  nocall\n",
       "40  site_2_8680a8dd845d40f296246dbed0d37394_40  nocall\n",
       "24  site_1_6ab74e177aa149468a39ca10beed6222_30  saypho\n",
       "75     site_3_856b194b097441958697c2bcd1f63982  nocall\n",
       "22  site_1_6ab74e177aa149468a39ca10beed6222_20  nocall\n",
       "5    site_1_cce64fffafed40f2b2f3d3413ec1c4c2_5  nocall\n",
       "13  site_1_99af324c881246949408c0b1ae54271f_10  nocall\n",
       "3   site_1_41e6fe6504a34bf6846938ba78d13df1_20  nocall\n",
       "10  site_1_cce64fffafed40f2b2f3d3413ec1c4c2_30  nocall\n",
       "54  site_2_940d546e5eb745c9a74bce3f35efa1f9_65  nocall\n",
       "39  site_2_8680a8dd845d40f296246dbed0d37394_35  aldfly\n",
       "30  site_1_b2fd3f01e9284293a1e33f9c811a2ed6_30  nocall\n",
       "23  site_1_6ab74e177aa149468a39ca10beed6222_25  nocall\n",
       "8   site_1_cce64fffafed40f2b2f3d3413ec1c4c2_20  nocall\n",
       "2   site_1_41e6fe6504a34bf6846938ba78d13df1_15  nocall\n",
       "9   site_1_cce64fffafed40f2b2f3d3413ec1c4c2_25  nocall\n",
       "19   site_1_6ab74e177aa149468a39ca10beed6222_5  nocall\n",
       "0    site_1_41e6fe6504a34bf6846938ba78d13df1_5  nocall\n",
       "58  site_2_07ab324c602e4afab65ddbcc746c31b5_15  nocall\n",
       "11  site_1_cce64fffafed40f2b2f3d3413ec1c4c2_35  nocall"
      ]
     },
     "execution_count": 40,
     "metadata": {},
     "output_type": "execute_result"
    }
   ],
   "source": [
    "sub = sub_test_12.append(sub_test_3)\n",
    "sub = test_df.merge(sub, how='left')[['row_id','birds']]\n",
    "sub['birds'] = sub['birds'].fillna('nocall')\n",
    "sub.to_csv('submission.csv', index=False)\n",
    "sub.iloc[random.sample(range(test_df.shape[0]),50),:]"
   ]
  },
  {
   "cell_type": "code",
   "execution_count": 41,
   "metadata": {
    "execution": {
     "iopub.execute_input": "2020-09-08T20:44:06.694873Z",
     "iopub.status.busy": "2020-09-08T20:44:06.694006Z",
     "iopub.status.idle": "2020-09-08T20:44:06.849294Z",
     "shell.execute_reply": "2020-09-08T20:44:06.848478Z"
    },
    "papermill": {
     "duration": 0.203689,
     "end_time": "2020-09-08T20:44:06.849418",
     "exception": false,
     "start_time": "2020-09-08T20:44:06.645729",
     "status": "completed"
    },
    "tags": []
   },
   "outputs": [
    {
     "data": {
      "text/plain": [
       "(array([0, 1, 2, 3]), <a list of 4 Text major ticklabel objects>)"
      ]
     },
     "execution_count": 41,
     "metadata": {},
     "output_type": "execute_result"
    },
    {
     "data": {
      "image/png": "[encoded data removed]",
      "text/plain": [
       "<Figure size 1080x360 with 1 Axes>"
      ]
     },
     "metadata": {
      "needs_background": "light"
     },
     "output_type": "display_data"
    }
   ],
   "source": [
    "plt.figure(figsize=(15, 5))\n",
    "sns.countplot(x=\"birds\", data = sub)\n",
    "plt.title(\"Distribution of the birdsong prediction\")\n",
    "plt.xticks(rotation=45)"
   ]
  },
  {
   "cell_type": "code",
   "execution_count": null,
   "metadata": {
    "papermill": {
     "duration": 0.028619,
     "end_time": "2020-09-08T20:44:06.907063",
     "exception": false,
     "start_time": "2020-09-08T20:44:06.878444",
     "status": "completed"
    },
    "tags": []
   },
   "outputs": [],
   "source": []
  },
  {
   "cell_type": "code",
   "execution_count": null,
   "metadata": {
    "papermill": {
     "duration": 0.028506,
     "end_time": "2020-09-08T20:44:06.964982",
     "exception": false,
     "start_time": "2020-09-08T20:44:06.936476",
     "status": "completed"
    },
    "tags": []
   },
   "outputs": [],
   "source": []
  },
  {
   "cell_type": "code",
   "execution_count": null,
   "metadata": {
    "papermill": {
     "duration": 0.028829,
     "end_time": "2020-09-08T20:44:07.023242",
     "exception": false,
     "start_time": "2020-09-08T20:44:06.994413",
     "status": "completed"
    },
    "tags": []
   },
   "outputs": [],
   "source": []
  }
 ],
 "metadata": {
  "kernelspec": {
   "display_name": "Python 3",
   "language": "python",
   "name": "python3"
  },
  "language_info": {
   "codemirror_mode": {
    "name": "ipython",
    "version": 3
   },
   "file_extension": ".py",
   "mimetype": "text/x-python",
   "name": "python",
   "nbconvert_exporter": "python",
   "pygments_lexer": "ipython3",
   "version": "3.10.8"
  },
  "papermill": {
   "duration": 148.452719,
   "end_time": "2020-09-08T20:44:07.161077",
   "environment_variables": {},
   "exception": null,
   "input_path": "__notebook__.ipynb",
   "output_path": "__notebook__.ipynb",
   "parameters": {},
   "start_time": "2020-09-08T20:41:38.708358",
   "version": "2.1.0"
  },
  "vscode": {
   "interpreter": {
    "hash": "369f2c481f4da34e4445cda3fffd2e751bd1c4d706f27375911949ba6bb62e1c"
   }
  }
 },
 "nbformat": 4,
 "nbformat_minor": 4
}
