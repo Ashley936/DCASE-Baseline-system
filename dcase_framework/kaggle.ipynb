{
 "cells": [
  {
   "cell_type": "code",
   "execution_count": null,
   "metadata": {},
   "outputs": [],
   "source": [
    "# get image path\n",
    "# define audio dataset path\n",
    "\n",
    "DATASET_AUDIO = \"train_audio/\"\n",
    "DATASET_SPEC = \"/kaggle/input/\" + \"birdsong-recognition/\" + DATASET_AUDIO\n",
    "\n",
    "print(DATASET_SPEC)"
   ]
  }
 ],
 "metadata": {
  "kernelspec": {
   "display_name": "Python 3",
   "language": "python",
   "name": "python3"
  },
  "language_info": {
   "name": "python",
   "version": "3.10.8"
  },
  "orig_nbformat": 4,
  "vscode": {
   "interpreter": {
    "hash": "369f2c481f4da34e4445cda3fffd2e751bd1c4d706f27375911949ba6bb62e1c"
   }
  }
 },
 "nbformat": 4,
 "nbformat_minor": 2
}
